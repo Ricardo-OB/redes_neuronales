{
  "nbformat": 4,
  "nbformat_minor": 0,
  "metadata": {
    "colab": {
      "provenance": [],
      "collapsed_sections": [
        "OIO9PYrp7sKs"
      ]
    },
    "kernelspec": {
      "name": "python3",
      "display_name": "Python 3"
    },
    "language_info": {
      "name": "python"
    }
  },
  "cells": [
    {
      "cell_type": "code",
      "execution_count": 1,
      "metadata": {
        "id": "G0mBXg-Lafhp"
      },
      "outputs": [],
      "source": [
        "import numpy as np\n",
        "import pandas as pd\n",
        "import tensorflow as tf\n",
        "import math\n",
        "import matplotlib.pyplot as plt\n",
        "import scipy\n",
        "import copy\n",
        "from sklearn.metrics import confusion_matrix, recall_score, f1_score"
      ]
    },
    {
      "cell_type": "markdown",
      "source": [
        "#### Dataset Original"
      ],
      "metadata": {
        "id": "3lCXIhQu0YWX"
      }
    },
    {
      "cell_type": "code",
      "source": [
        "%pwd"
      ],
      "metadata": {
        "colab": {
          "base_uri": "https://localhost:8080/",
          "height": 35
        },
        "id": "hJOdtICD0jgF",
        "outputId": "cf619d00-ceae-4752-c429-17fcb80a2ed9"
      },
      "execution_count": null,
      "outputs": [
        {
          "output_type": "execute_result",
          "data": {
            "text/plain": [
              "'/content'"
            ],
            "application/vnd.google.colaboratory.intrinsic+json": {
              "type": "string"
            }
          },
          "metadata": {},
          "execution_count": 291
        }
      ]
    },
    {
      "cell_type": "code",
      "source": [
        "!wget https://archive.ics.uci.edu/ml/machine-learning-databases/breast-cancer-wisconsin/wdbc.data"
      ],
      "metadata": {
        "colab": {
          "base_uri": "https://localhost:8080/"
        },
        "id": "yYOHz1SPkeku",
        "outputId": "7dee3f69-810c-4137-bc48-251bdbfc71ea"
      },
      "execution_count": null,
      "outputs": [
        {
          "output_type": "stream",
          "name": "stdout",
          "text": [
            "--2023-04-18 18:17:26--  https://archive.ics.uci.edu/ml/machine-learning-databases/breast-cancer-wisconsin/wdbc.data\n",
            "Resolving archive.ics.uci.edu (archive.ics.uci.edu)... 128.195.10.252\n",
            "Connecting to archive.ics.uci.edu (archive.ics.uci.edu)|128.195.10.252|:443... connected.\n",
            "HTTP request sent, awaiting response... 200 OK\n",
            "Length: 124103 (121K) [application/x-httpd-php]\n",
            "Saving to: ‘wdbc.data’\n",
            "\n",
            "wdbc.data           100%[===================>] 121.19K   310KB/s    in 0.4s    \n",
            "\n",
            "2023-04-18 18:17:27 (310 KB/s) - ‘wdbc.data’ saved [124103/124103]\n",
            "\n"
          ]
        }
      ]
    },
    {
      "cell_type": "code",
      "source": [
        "data_orig = pd.read_csv('/content/wdbc.data')"
      ],
      "metadata": {
        "id": "Lv2eYQ154q76"
      },
      "execution_count": null,
      "outputs": []
    },
    {
      "cell_type": "code",
      "source": [
        "col_names = ['id', 'diagnosis']\n",
        "\n",
        "for i in range(1, 31):\n",
        "    col_names.append('a' + str(i))"
      ],
      "metadata": {
        "id": "2Y_q5APjkmC2"
      },
      "execution_count": null,
      "outputs": []
    },
    {
      "cell_type": "code",
      "source": [
        "data_orig.columns = col_names"
      ],
      "metadata": {
        "id": "m80RltoY5Ek8"
      },
      "execution_count": null,
      "outputs": []
    },
    {
      "cell_type": "code",
      "source": [
        "X_train = data_orig.iloc[:455, 2:12]\n",
        "X_train.info()"
      ],
      "metadata": {
        "colab": {
          "base_uri": "https://localhost:8080/"
        },
        "id": "VF3fIZWu6TNv",
        "outputId": "728607a8-fbe3-411f-c849-0ee02515e481"
      },
      "execution_count": null,
      "outputs": [
        {
          "output_type": "stream",
          "name": "stdout",
          "text": [
            "<class 'pandas.core.frame.DataFrame'>\n",
            "RangeIndex: 455 entries, 0 to 454\n",
            "Data columns (total 10 columns):\n",
            " #   Column  Non-Null Count  Dtype  \n",
            "---  ------  --------------  -----  \n",
            " 0   a1      455 non-null    float64\n",
            " 1   a2      455 non-null    float64\n",
            " 2   a3      455 non-null    float64\n",
            " 3   a4      455 non-null    float64\n",
            " 4   a5      455 non-null    float64\n",
            " 5   a6      455 non-null    float64\n",
            " 6   a7      455 non-null    float64\n",
            " 7   a8      455 non-null    float64\n",
            " 8   a9      455 non-null    float64\n",
            " 9   a10     455 non-null    float64\n",
            "dtypes: float64(10)\n",
            "memory usage: 35.7 KB\n"
          ]
        }
      ]
    },
    {
      "cell_type": "code",
      "source": [
        "Y_train = data_orig.loc[:454, ['diagnosis']]\n",
        "Y_train.head(25)"
      ],
      "metadata": {
        "colab": {
          "base_uri": "https://localhost:8080/",
          "height": 833
        },
        "id": "SboAhsfI7JXt",
        "outputId": "4493dcaf-2f1d-403d-ed0e-23bdfef19852"
      },
      "execution_count": null,
      "outputs": [
        {
          "output_type": "execute_result",
          "data": {
            "text/plain": [
              "   diagnosis\n",
              "0          M\n",
              "1          M\n",
              "2          M\n",
              "3          M\n",
              "4          M\n",
              "5          M\n",
              "6          M\n",
              "7          M\n",
              "8          M\n",
              "9          M\n",
              "10         M\n",
              "11         M\n",
              "12         M\n",
              "13         M\n",
              "14         M\n",
              "15         M\n",
              "16         M\n",
              "17         M\n",
              "18         B\n",
              "19         B\n",
              "20         B\n",
              "21         M\n",
              "22         M\n",
              "23         M\n",
              "24         M"
            ],
            "text/html": [
              "\n",
              "  <div id=\"df-58bc5a59-f12d-4ef0-ad1c-9c32b94c5d3a\">\n",
              "    <div class=\"colab-df-container\">\n",
              "      <div>\n",
              "<style scoped>\n",
              "    .dataframe tbody tr th:only-of-type {\n",
              "        vertical-align: middle;\n",
              "    }\n",
              "\n",
              "    .dataframe tbody tr th {\n",
              "        vertical-align: top;\n",
              "    }\n",
              "\n",
              "    .dataframe thead th {\n",
              "        text-align: right;\n",
              "    }\n",
              "</style>\n",
              "<table border=\"1\" class=\"dataframe\">\n",
              "  <thead>\n",
              "    <tr style=\"text-align: right;\">\n",
              "      <th></th>\n",
              "      <th>diagnosis</th>\n",
              "    </tr>\n",
              "  </thead>\n",
              "  <tbody>\n",
              "    <tr>\n",
              "      <th>0</th>\n",
              "      <td>M</td>\n",
              "    </tr>\n",
              "    <tr>\n",
              "      <th>1</th>\n",
              "      <td>M</td>\n",
              "    </tr>\n",
              "    <tr>\n",
              "      <th>2</th>\n",
              "      <td>M</td>\n",
              "    </tr>\n",
              "    <tr>\n",
              "      <th>3</th>\n",
              "      <td>M</td>\n",
              "    </tr>\n",
              "    <tr>\n",
              "      <th>4</th>\n",
              "      <td>M</td>\n",
              "    </tr>\n",
              "    <tr>\n",
              "      <th>5</th>\n",
              "      <td>M</td>\n",
              "    </tr>\n",
              "    <tr>\n",
              "      <th>6</th>\n",
              "      <td>M</td>\n",
              "    </tr>\n",
              "    <tr>\n",
              "      <th>7</th>\n",
              "      <td>M</td>\n",
              "    </tr>\n",
              "    <tr>\n",
              "      <th>8</th>\n",
              "      <td>M</td>\n",
              "    </tr>\n",
              "    <tr>\n",
              "      <th>9</th>\n",
              "      <td>M</td>\n",
              "    </tr>\n",
              "    <tr>\n",
              "      <th>10</th>\n",
              "      <td>M</td>\n",
              "    </tr>\n",
              "    <tr>\n",
              "      <th>11</th>\n",
              "      <td>M</td>\n",
              "    </tr>\n",
              "    <tr>\n",
              "      <th>12</th>\n",
              "      <td>M</td>\n",
              "    </tr>\n",
              "    <tr>\n",
              "      <th>13</th>\n",
              "      <td>M</td>\n",
              "    </tr>\n",
              "    <tr>\n",
              "      <th>14</th>\n",
              "      <td>M</td>\n",
              "    </tr>\n",
              "    <tr>\n",
              "      <th>15</th>\n",
              "      <td>M</td>\n",
              "    </tr>\n",
              "    <tr>\n",
              "      <th>16</th>\n",
              "      <td>M</td>\n",
              "    </tr>\n",
              "    <tr>\n",
              "      <th>17</th>\n",
              "      <td>M</td>\n",
              "    </tr>\n",
              "    <tr>\n",
              "      <th>18</th>\n",
              "      <td>B</td>\n",
              "    </tr>\n",
              "    <tr>\n",
              "      <th>19</th>\n",
              "      <td>B</td>\n",
              "    </tr>\n",
              "    <tr>\n",
              "      <th>20</th>\n",
              "      <td>B</td>\n",
              "    </tr>\n",
              "    <tr>\n",
              "      <th>21</th>\n",
              "      <td>M</td>\n",
              "    </tr>\n",
              "    <tr>\n",
              "      <th>22</th>\n",
              "      <td>M</td>\n",
              "    </tr>\n",
              "    <tr>\n",
              "      <th>23</th>\n",
              "      <td>M</td>\n",
              "    </tr>\n",
              "    <tr>\n",
              "      <th>24</th>\n",
              "      <td>M</td>\n",
              "    </tr>\n",
              "  </tbody>\n",
              "</table>\n",
              "</div>\n",
              "      <button class=\"colab-df-convert\" onclick=\"convertToInteractive('df-58bc5a59-f12d-4ef0-ad1c-9c32b94c5d3a')\"\n",
              "              title=\"Convert this dataframe to an interactive table.\"\n",
              "              style=\"display:none;\">\n",
              "        \n",
              "  <svg xmlns=\"http://www.w3.org/2000/svg\" height=\"24px\"viewBox=\"0 0 24 24\"\n",
              "       width=\"24px\">\n",
              "    <path d=\"M0 0h24v24H0V0z\" fill=\"none\"/>\n",
              "    <path d=\"M18.56 5.44l.94 2.06.94-2.06 2.06-.94-2.06-.94-.94-2.06-.94 2.06-2.06.94zm-11 1L8.5 8.5l.94-2.06 2.06-.94-2.06-.94L8.5 2.5l-.94 2.06-2.06.94zm10 10l.94 2.06.94-2.06 2.06-.94-2.06-.94-.94-2.06-.94 2.06-2.06.94z\"/><path d=\"M17.41 7.96l-1.37-1.37c-.4-.4-.92-.59-1.43-.59-.52 0-1.04.2-1.43.59L10.3 9.45l-7.72 7.72c-.78.78-.78 2.05 0 2.83L4 21.41c.39.39.9.59 1.41.59.51 0 1.02-.2 1.41-.59l7.78-7.78 2.81-2.81c.8-.78.8-2.07 0-2.86zM5.41 20L4 18.59l7.72-7.72 1.47 1.35L5.41 20z\"/>\n",
              "  </svg>\n",
              "      </button>\n",
              "      \n",
              "  <style>\n",
              "    .colab-df-container {\n",
              "      display:flex;\n",
              "      flex-wrap:wrap;\n",
              "      gap: 12px;\n",
              "    }\n",
              "\n",
              "    .colab-df-convert {\n",
              "      background-color: #E8F0FE;\n",
              "      border: none;\n",
              "      border-radius: 50%;\n",
              "      cursor: pointer;\n",
              "      display: none;\n",
              "      fill: #1967D2;\n",
              "      height: 32px;\n",
              "      padding: 0 0 0 0;\n",
              "      width: 32px;\n",
              "    }\n",
              "\n",
              "    .colab-df-convert:hover {\n",
              "      background-color: #E2EBFA;\n",
              "      box-shadow: 0px 1px 2px rgba(60, 64, 67, 0.3), 0px 1px 3px 1px rgba(60, 64, 67, 0.15);\n",
              "      fill: #174EA6;\n",
              "    }\n",
              "\n",
              "    [theme=dark] .colab-df-convert {\n",
              "      background-color: #3B4455;\n",
              "      fill: #D2E3FC;\n",
              "    }\n",
              "\n",
              "    [theme=dark] .colab-df-convert:hover {\n",
              "      background-color: #434B5C;\n",
              "      box-shadow: 0px 1px 3px 1px rgba(0, 0, 0, 0.15);\n",
              "      filter: drop-shadow(0px 1px 2px rgba(0, 0, 0, 0.3));\n",
              "      fill: #FFFFFF;\n",
              "    }\n",
              "  </style>\n",
              "\n",
              "      <script>\n",
              "        const buttonEl =\n",
              "          document.querySelector('#df-58bc5a59-f12d-4ef0-ad1c-9c32b94c5d3a button.colab-df-convert');\n",
              "        buttonEl.style.display =\n",
              "          google.colab.kernel.accessAllowed ? 'block' : 'none';\n",
              "\n",
              "        async function convertToInteractive(key) {\n",
              "          const element = document.querySelector('#df-58bc5a59-f12d-4ef0-ad1c-9c32b94c5d3a');\n",
              "          const dataTable =\n",
              "            await google.colab.kernel.invokeFunction('convertToInteractive',\n",
              "                                                     [key], {});\n",
              "          if (!dataTable) return;\n",
              "\n",
              "          const docLinkHtml = 'Like what you see? Visit the ' +\n",
              "            '<a target=\"_blank\" href=https://colab.research.google.com/notebooks/data_table.ipynb>data table notebook</a>'\n",
              "            + ' to learn more about interactive tables.';\n",
              "          element.innerHTML = '';\n",
              "          dataTable['output_type'] = 'display_data';\n",
              "          await google.colab.output.renderOutput(dataTable, element);\n",
              "          const docLink = document.createElement('div');\n",
              "          docLink.innerHTML = docLinkHtml;\n",
              "          element.appendChild(docLink);\n",
              "        }\n",
              "      </script>\n",
              "    </div>\n",
              "  </div>\n",
              "  "
            ]
          },
          "metadata": {},
          "execution_count": 305
        }
      ]
    },
    {
      "cell_type": "code",
      "source": [
        "Y_train = Y_train['diagnosis'].map(lambda diag: 0 if diag == 'B' else 1)\n",
        "Y_train"
      ],
      "metadata": {
        "colab": {
          "base_uri": "https://localhost:8080/"
        },
        "id": "RjFAZfZh7dT3",
        "outputId": "496ce622-ded1-4a67-bd68-7bd4b3c20cc6"
      },
      "execution_count": null,
      "outputs": [
        {
          "output_type": "execute_result",
          "data": {
            "text/plain": [
              "0      1\n",
              "1      1\n",
              "2      1\n",
              "3      1\n",
              "4      1\n",
              "      ..\n",
              "450    1\n",
              "451    0\n",
              "452    0\n",
              "453    0\n",
              "454    0\n",
              "Name: diagnosis, Length: 455, dtype: int64"
            ]
          },
          "metadata": {},
          "execution_count": 306
        }
      ]
    },
    {
      "cell_type": "code",
      "source": [
        "X_train_array = X_train.to_numpy().T\n",
        "X_train_array.shape"
      ],
      "metadata": {
        "colab": {
          "base_uri": "https://localhost:8080/"
        },
        "id": "x1ts-TNDl5fu",
        "outputId": "f41dab58-a1f3-46e1-81f2-a7b188acf1ea"
      },
      "execution_count": null,
      "outputs": [
        {
          "output_type": "execute_result",
          "data": {
            "text/plain": [
              "(10, 455)"
            ]
          },
          "metadata": {},
          "execution_count": 307
        }
      ]
    },
    {
      "cell_type": "code",
      "source": [
        "X_train_array[:,:3]"
      ],
      "metadata": {
        "colab": {
          "base_uri": "https://localhost:8080/"
        },
        "id": "bVUCtfU2nOPe",
        "outputId": "b2ef6ccc-de7e-4136-8f55-f78cb2ef5ecf"
      },
      "execution_count": null,
      "outputs": [
        {
          "output_type": "execute_result",
          "data": {
            "text/plain": [
              "array([[2.057e+01, 1.969e+01, 1.142e+01],\n",
              "       [1.777e+01, 2.125e+01, 2.038e+01],\n",
              "       [1.329e+02, 1.300e+02, 7.758e+01],\n",
              "       [1.326e+03, 1.203e+03, 3.861e+02],\n",
              "       [8.474e-02, 1.096e-01, 1.425e-01],\n",
              "       [7.864e-02, 1.599e-01, 2.839e-01],\n",
              "       [8.690e-02, 1.974e-01, 2.414e-01],\n",
              "       [7.017e-02, 1.279e-01, 1.052e-01],\n",
              "       [1.812e-01, 2.069e-01, 2.597e-01],\n",
              "       [5.667e-02, 5.999e-02, 9.744e-02]])"
            ]
          },
          "metadata": {},
          "execution_count": 308
        }
      ]
    },
    {
      "cell_type": "code",
      "source": [
        "Y_train_array = Y_train.to_numpy()\n",
        "\n",
        "n_values = np.max(Y_train_array) + 1\n",
        "Y_train_array = np.eye(n_values)[Y_train_array]\n",
        "\n",
        "Y_train_array = Y_train_array.T\n",
        "Y_train_array.shape"
      ],
      "metadata": {
        "colab": {
          "base_uri": "https://localhost:8080/"
        },
        "id": "P_4CF1YCmRf4",
        "outputId": "735df62c-233c-4151-f5f6-f9454cfc59cf"
      },
      "execution_count": null,
      "outputs": [
        {
          "output_type": "execute_result",
          "data": {
            "text/plain": [
              "(2, 455)"
            ]
          },
          "metadata": {},
          "execution_count": 309
        }
      ]
    },
    {
      "cell_type": "code",
      "source": [
        "Y_train_array[:, :25]"
      ],
      "metadata": {
        "colab": {
          "base_uri": "https://localhost:8080/"
        },
        "id": "gyHA3ETNnfI2",
        "outputId": "e3b01ba7-b9ef-493f-c4fd-c94c0e28e8ba"
      },
      "execution_count": null,
      "outputs": [
        {
          "output_type": "execute_result",
          "data": {
            "text/plain": [
              "array([[0., 0., 0., 0., 0., 0., 0., 0., 0., 0., 0., 0., 0., 0., 0., 0.,\n",
              "        0., 0., 1., 1., 1., 0., 0., 0., 0.],\n",
              "       [1., 1., 1., 1., 1., 1., 1., 1., 1., 1., 1., 1., 1., 1., 1., 1.,\n",
              "        1., 1., 0., 0., 0., 1., 1., 1., 1.]])"
            ]
          },
          "metadata": {},
          "execution_count": 310
        }
      ]
    },
    {
      "cell_type": "markdown",
      "source": [
        "#### Dataset (10 caracteristicas)"
      ],
      "metadata": {
        "id": "fdLQVBVq4hRx"
      }
    },
    {
      "cell_type": "markdown",
      "source": [
        "<img src=\"https://github.com/Ricardo-OB/redes_neuronales/blob/main/images/capa_entrada_2.png?raw=true\" width=\"400\">"
      ],
      "metadata": {
        "id": "HliT0IvYt2Wk"
      }
    },
    {
      "cell_type": "code",
      "source": [
        "columns = ['id','diagnostico', 'radio', 'textura', 'perimetro', 'area', 'suavidad', 'compacidad', 'concavidad', 'puntos_concavos', 'simetria', 'dimension_fractal']\n",
        "len(columns)"
      ],
      "metadata": {
        "colab": {
          "base_uri": "https://localhost:8080/"
        },
        "id": "bgjX6g-X3ZG2",
        "outputId": "bab126e1-01fe-4a76-c332-99055e2f7842"
      },
      "execution_count": 2,
      "outputs": [
        {
          "output_type": "execute_result",
          "data": {
            "text/plain": [
              "12"
            ]
          },
          "metadata": {},
          "execution_count": 2
        }
      ]
    },
    {
      "cell_type": "code",
      "source": [
        "data_original = pd.read_csv('https://raw.githubusercontent.com/viowiy/redes_neuronales/main/datasets/set2_training.csv', sep=\",\", engine='python', names=columns)"
      ],
      "metadata": {
        "id": "VO4nOsa9xo_Y"
      },
      "execution_count": 3,
      "outputs": []
    },
    {
      "cell_type": "code",
      "source": [
        "data_original.head()"
      ],
      "metadata": {
        "colab": {
          "base_uri": "https://localhost:8080/",
          "height": 206
        },
        "id": "yFF4dKscwjYp",
        "outputId": "c39174a2-ec08-4738-8e08-857aa4384249"
      },
      "execution_count": 4,
      "outputs": [
        {
          "output_type": "execute_result",
          "data": {
            "text/plain": [
              "         id  diagnostico  radio  textura  perimetro    area  suavidad  \\\n",
              "0    842302            1  17.99    10.38     122.80  1001.0   0.11840   \n",
              "1    842517            1  20.57    17.77     132.90  1326.0   0.08474   \n",
              "2  84300903            1  19.69    21.25     130.00  1203.0   0.10960   \n",
              "3  84348301            1  11.42    20.38      77.58   386.1   0.14250   \n",
              "4  84358402            1  20.29    14.34     135.10  1297.0   0.10030   \n",
              "\n",
              "   compacidad  concavidad  puntos_concavos  simetria  dimension_fractal  \n",
              "0     0.27760      0.3001          0.14710    0.2419            0.07871  \n",
              "1     0.07864      0.0869          0.07017    0.1812            0.05667  \n",
              "2     0.15990      0.1974          0.12790    0.2069            0.05999  \n",
              "3     0.28390      0.2414          0.10520    0.2597            0.09744  \n",
              "4     0.13280      0.1980          0.10430    0.1809            0.05883  "
            ],
            "text/html": [
              "\n",
              "  <div id=\"df-97ae86f1-40aa-454f-9af3-65735874fe5f\">\n",
              "    <div class=\"colab-df-container\">\n",
              "      <div>\n",
              "<style scoped>\n",
              "    .dataframe tbody tr th:only-of-type {\n",
              "        vertical-align: middle;\n",
              "    }\n",
              "\n",
              "    .dataframe tbody tr th {\n",
              "        vertical-align: top;\n",
              "    }\n",
              "\n",
              "    .dataframe thead th {\n",
              "        text-align: right;\n",
              "    }\n",
              "</style>\n",
              "<table border=\"1\" class=\"dataframe\">\n",
              "  <thead>\n",
              "    <tr style=\"text-align: right;\">\n",
              "      <th></th>\n",
              "      <th>id</th>\n",
              "      <th>diagnostico</th>\n",
              "      <th>radio</th>\n",
              "      <th>textura</th>\n",
              "      <th>perimetro</th>\n",
              "      <th>area</th>\n",
              "      <th>suavidad</th>\n",
              "      <th>compacidad</th>\n",
              "      <th>concavidad</th>\n",
              "      <th>puntos_concavos</th>\n",
              "      <th>simetria</th>\n",
              "      <th>dimension_fractal</th>\n",
              "    </tr>\n",
              "  </thead>\n",
              "  <tbody>\n",
              "    <tr>\n",
              "      <th>0</th>\n",
              "      <td>842302</td>\n",
              "      <td>1</td>\n",
              "      <td>17.99</td>\n",
              "      <td>10.38</td>\n",
              "      <td>122.80</td>\n",
              "      <td>1001.0</td>\n",
              "      <td>0.11840</td>\n",
              "      <td>0.27760</td>\n",
              "      <td>0.3001</td>\n",
              "      <td>0.14710</td>\n",
              "      <td>0.2419</td>\n",
              "      <td>0.07871</td>\n",
              "    </tr>\n",
              "    <tr>\n",
              "      <th>1</th>\n",
              "      <td>842517</td>\n",
              "      <td>1</td>\n",
              "      <td>20.57</td>\n",
              "      <td>17.77</td>\n",
              "      <td>132.90</td>\n",
              "      <td>1326.0</td>\n",
              "      <td>0.08474</td>\n",
              "      <td>0.07864</td>\n",
              "      <td>0.0869</td>\n",
              "      <td>0.07017</td>\n",
              "      <td>0.1812</td>\n",
              "      <td>0.05667</td>\n",
              "    </tr>\n",
              "    <tr>\n",
              "      <th>2</th>\n",
              "      <td>84300903</td>\n",
              "      <td>1</td>\n",
              "      <td>19.69</td>\n",
              "      <td>21.25</td>\n",
              "      <td>130.00</td>\n",
              "      <td>1203.0</td>\n",
              "      <td>0.10960</td>\n",
              "      <td>0.15990</td>\n",
              "      <td>0.1974</td>\n",
              "      <td>0.12790</td>\n",
              "      <td>0.2069</td>\n",
              "      <td>0.05999</td>\n",
              "    </tr>\n",
              "    <tr>\n",
              "      <th>3</th>\n",
              "      <td>84348301</td>\n",
              "      <td>1</td>\n",
              "      <td>11.42</td>\n",
              "      <td>20.38</td>\n",
              "      <td>77.58</td>\n",
              "      <td>386.1</td>\n",
              "      <td>0.14250</td>\n",
              "      <td>0.28390</td>\n",
              "      <td>0.2414</td>\n",
              "      <td>0.10520</td>\n",
              "      <td>0.2597</td>\n",
              "      <td>0.09744</td>\n",
              "    </tr>\n",
              "    <tr>\n",
              "      <th>4</th>\n",
              "      <td>84358402</td>\n",
              "      <td>1</td>\n",
              "      <td>20.29</td>\n",
              "      <td>14.34</td>\n",
              "      <td>135.10</td>\n",
              "      <td>1297.0</td>\n",
              "      <td>0.10030</td>\n",
              "      <td>0.13280</td>\n",
              "      <td>0.1980</td>\n",
              "      <td>0.10430</td>\n",
              "      <td>0.1809</td>\n",
              "      <td>0.05883</td>\n",
              "    </tr>\n",
              "  </tbody>\n",
              "</table>\n",
              "</div>\n",
              "      <button class=\"colab-df-convert\" onclick=\"convertToInteractive('df-97ae86f1-40aa-454f-9af3-65735874fe5f')\"\n",
              "              title=\"Convert this dataframe to an interactive table.\"\n",
              "              style=\"display:none;\">\n",
              "        \n",
              "  <svg xmlns=\"http://www.w3.org/2000/svg\" height=\"24px\"viewBox=\"0 0 24 24\"\n",
              "       width=\"24px\">\n",
              "    <path d=\"M0 0h24v24H0V0z\" fill=\"none\"/>\n",
              "    <path d=\"M18.56 5.44l.94 2.06.94-2.06 2.06-.94-2.06-.94-.94-2.06-.94 2.06-2.06.94zm-11 1L8.5 8.5l.94-2.06 2.06-.94-2.06-.94L8.5 2.5l-.94 2.06-2.06.94zm10 10l.94 2.06.94-2.06 2.06-.94-2.06-.94-.94-2.06-.94 2.06-2.06.94z\"/><path d=\"M17.41 7.96l-1.37-1.37c-.4-.4-.92-.59-1.43-.59-.52 0-1.04.2-1.43.59L10.3 9.45l-7.72 7.72c-.78.78-.78 2.05 0 2.83L4 21.41c.39.39.9.59 1.41.59.51 0 1.02-.2 1.41-.59l7.78-7.78 2.81-2.81c.8-.78.8-2.07 0-2.86zM5.41 20L4 18.59l7.72-7.72 1.47 1.35L5.41 20z\"/>\n",
              "  </svg>\n",
              "      </button>\n",
              "      \n",
              "  <style>\n",
              "    .colab-df-container {\n",
              "      display:flex;\n",
              "      flex-wrap:wrap;\n",
              "      gap: 12px;\n",
              "    }\n",
              "\n",
              "    .colab-df-convert {\n",
              "      background-color: #E8F0FE;\n",
              "      border: none;\n",
              "      border-radius: 50%;\n",
              "      cursor: pointer;\n",
              "      display: none;\n",
              "      fill: #1967D2;\n",
              "      height: 32px;\n",
              "      padding: 0 0 0 0;\n",
              "      width: 32px;\n",
              "    }\n",
              "\n",
              "    .colab-df-convert:hover {\n",
              "      background-color: #E2EBFA;\n",
              "      box-shadow: 0px 1px 2px rgba(60, 64, 67, 0.3), 0px 1px 3px 1px rgba(60, 64, 67, 0.15);\n",
              "      fill: #174EA6;\n",
              "    }\n",
              "\n",
              "    [theme=dark] .colab-df-convert {\n",
              "      background-color: #3B4455;\n",
              "      fill: #D2E3FC;\n",
              "    }\n",
              "\n",
              "    [theme=dark] .colab-df-convert:hover {\n",
              "      background-color: #434B5C;\n",
              "      box-shadow: 0px 1px 3px 1px rgba(0, 0, 0, 0.15);\n",
              "      filter: drop-shadow(0px 1px 2px rgba(0, 0, 0, 0.3));\n",
              "      fill: #FFFFFF;\n",
              "    }\n",
              "  </style>\n",
              "\n",
              "      <script>\n",
              "        const buttonEl =\n",
              "          document.querySelector('#df-97ae86f1-40aa-454f-9af3-65735874fe5f button.colab-df-convert');\n",
              "        buttonEl.style.display =\n",
              "          google.colab.kernel.accessAllowed ? 'block' : 'none';\n",
              "\n",
              "        async function convertToInteractive(key) {\n",
              "          const element = document.querySelector('#df-97ae86f1-40aa-454f-9af3-65735874fe5f');\n",
              "          const dataTable =\n",
              "            await google.colab.kernel.invokeFunction('convertToInteractive',\n",
              "                                                     [key], {});\n",
              "          if (!dataTable) return;\n",
              "\n",
              "          const docLinkHtml = 'Like what you see? Visit the ' +\n",
              "            '<a target=\"_blank\" href=https://colab.research.google.com/notebooks/data_table.ipynb>data table notebook</a>'\n",
              "            + ' to learn more about interactive tables.';\n",
              "          element.innerHTML = '';\n",
              "          dataTable['output_type'] = 'display_data';\n",
              "          await google.colab.output.renderOutput(dataTable, element);\n",
              "          const docLink = document.createElement('div');\n",
              "          docLink.innerHTML = docLinkHtml;\n",
              "          element.appendChild(docLink);\n",
              "        }\n",
              "      </script>\n",
              "    </div>\n",
              "  </div>\n",
              "  "
            ]
          },
          "metadata": {},
          "execution_count": 4
        }
      ]
    },
    {
      "cell_type": "code",
      "source": [
        "data_original.describe()"
      ],
      "metadata": {
        "colab": {
          "base_uri": "https://localhost:8080/",
          "height": 300
        },
        "id": "Bk2dfEO6h7js",
        "outputId": "2ab73cfe-995f-4e41-b3e7-cce7fd9fb5b9"
      },
      "execution_count": 5,
      "outputs": [
        {
          "output_type": "execute_result",
          "data": {
            "text/plain": [
              "                 id  diagnostico       radio     textura   perimetro  \\\n",
              "count  4.550000e+02   455.000000  455.000000  455.000000  455.000000   \n",
              "mean   2.871195e+07     0.371429   14.033567   19.001934   91.292022   \n",
              "std    1.188293e+08     0.483719    3.440192    4.174479   23.701252   \n",
              "min    8.670000e+03     0.000000    6.981000    9.710000   43.790000   \n",
              "25%    8.652800e+05     0.000000   11.705000   15.960000   74.935000   \n",
              "50%    8.976040e+05     0.000000   13.200000   18.580000   85.630000   \n",
              "75%    8.910734e+06     1.000000   15.705000   21.540000  102.950000   \n",
              "max    9.113205e+08     1.000000   28.110000   39.280000  188.500000   \n",
              "\n",
              "              area    suavidad  compacidad  concavidad  puntos_concavos  \\\n",
              "count   455.000000  455.000000  455.000000  455.000000       455.000000   \n",
              "mean    644.877363    0.095886    0.102587    0.086764         0.047869   \n",
              "std     341.533200    0.013749    0.053146    0.078848         0.038406   \n",
              "min     143.500000    0.062510    0.019380    0.000000         0.000000   \n",
              "25%     420.050000    0.085855    0.062450    0.027110         0.019575   \n",
              "50%     537.900000    0.094950    0.088360    0.061260         0.032640   \n",
              "75%     761.500000    0.105000    0.129500    0.125050         0.070525   \n",
              "max    2499.000000    0.144700    0.345400    0.426800         0.201200   \n",
              "\n",
              "         simetria  dimension_fractal  \n",
              "count  455.000000         455.000000  \n",
              "mean     0.181805           0.062617  \n",
              "std      0.028195           0.006978  \n",
              "min      0.116700           0.049960  \n",
              "25%      0.161850           0.057635  \n",
              "50%      0.179900           0.061300  \n",
              "75%      0.195700           0.065765  \n",
              "max      0.304000           0.097440  "
            ],
            "text/html": [
              "\n",
              "  <div id=\"df-c6350aca-80f5-48ae-9547-7c259e369ce1\">\n",
              "    <div class=\"colab-df-container\">\n",
              "      <div>\n",
              "<style scoped>\n",
              "    .dataframe tbody tr th:only-of-type {\n",
              "        vertical-align: middle;\n",
              "    }\n",
              "\n",
              "    .dataframe tbody tr th {\n",
              "        vertical-align: top;\n",
              "    }\n",
              "\n",
              "    .dataframe thead th {\n",
              "        text-align: right;\n",
              "    }\n",
              "</style>\n",
              "<table border=\"1\" class=\"dataframe\">\n",
              "  <thead>\n",
              "    <tr style=\"text-align: right;\">\n",
              "      <th></th>\n",
              "      <th>id</th>\n",
              "      <th>diagnostico</th>\n",
              "      <th>radio</th>\n",
              "      <th>textura</th>\n",
              "      <th>perimetro</th>\n",
              "      <th>area</th>\n",
              "      <th>suavidad</th>\n",
              "      <th>compacidad</th>\n",
              "      <th>concavidad</th>\n",
              "      <th>puntos_concavos</th>\n",
              "      <th>simetria</th>\n",
              "      <th>dimension_fractal</th>\n",
              "    </tr>\n",
              "  </thead>\n",
              "  <tbody>\n",
              "    <tr>\n",
              "      <th>count</th>\n",
              "      <td>4.550000e+02</td>\n",
              "      <td>455.000000</td>\n",
              "      <td>455.000000</td>\n",
              "      <td>455.000000</td>\n",
              "      <td>455.000000</td>\n",
              "      <td>455.000000</td>\n",
              "      <td>455.000000</td>\n",
              "      <td>455.000000</td>\n",
              "      <td>455.000000</td>\n",
              "      <td>455.000000</td>\n",
              "      <td>455.000000</td>\n",
              "      <td>455.000000</td>\n",
              "    </tr>\n",
              "    <tr>\n",
              "      <th>mean</th>\n",
              "      <td>2.871195e+07</td>\n",
              "      <td>0.371429</td>\n",
              "      <td>14.033567</td>\n",
              "      <td>19.001934</td>\n",
              "      <td>91.292022</td>\n",
              "      <td>644.877363</td>\n",
              "      <td>0.095886</td>\n",
              "      <td>0.102587</td>\n",
              "      <td>0.086764</td>\n",
              "      <td>0.047869</td>\n",
              "      <td>0.181805</td>\n",
              "      <td>0.062617</td>\n",
              "    </tr>\n",
              "    <tr>\n",
              "      <th>std</th>\n",
              "      <td>1.188293e+08</td>\n",
              "      <td>0.483719</td>\n",
              "      <td>3.440192</td>\n",
              "      <td>4.174479</td>\n",
              "      <td>23.701252</td>\n",
              "      <td>341.533200</td>\n",
              "      <td>0.013749</td>\n",
              "      <td>0.053146</td>\n",
              "      <td>0.078848</td>\n",
              "      <td>0.038406</td>\n",
              "      <td>0.028195</td>\n",
              "      <td>0.006978</td>\n",
              "    </tr>\n",
              "    <tr>\n",
              "      <th>min</th>\n",
              "      <td>8.670000e+03</td>\n",
              "      <td>0.000000</td>\n",
              "      <td>6.981000</td>\n",
              "      <td>9.710000</td>\n",
              "      <td>43.790000</td>\n",
              "      <td>143.500000</td>\n",
              "      <td>0.062510</td>\n",
              "      <td>0.019380</td>\n",
              "      <td>0.000000</td>\n",
              "      <td>0.000000</td>\n",
              "      <td>0.116700</td>\n",
              "      <td>0.049960</td>\n",
              "    </tr>\n",
              "    <tr>\n",
              "      <th>25%</th>\n",
              "      <td>8.652800e+05</td>\n",
              "      <td>0.000000</td>\n",
              "      <td>11.705000</td>\n",
              "      <td>15.960000</td>\n",
              "      <td>74.935000</td>\n",
              "      <td>420.050000</td>\n",
              "      <td>0.085855</td>\n",
              "      <td>0.062450</td>\n",
              "      <td>0.027110</td>\n",
              "      <td>0.019575</td>\n",
              "      <td>0.161850</td>\n",
              "      <td>0.057635</td>\n",
              "    </tr>\n",
              "    <tr>\n",
              "      <th>50%</th>\n",
              "      <td>8.976040e+05</td>\n",
              "      <td>0.000000</td>\n",
              "      <td>13.200000</td>\n",
              "      <td>18.580000</td>\n",
              "      <td>85.630000</td>\n",
              "      <td>537.900000</td>\n",
              "      <td>0.094950</td>\n",
              "      <td>0.088360</td>\n",
              "      <td>0.061260</td>\n",
              "      <td>0.032640</td>\n",
              "      <td>0.179900</td>\n",
              "      <td>0.061300</td>\n",
              "    </tr>\n",
              "    <tr>\n",
              "      <th>75%</th>\n",
              "      <td>8.910734e+06</td>\n",
              "      <td>1.000000</td>\n",
              "      <td>15.705000</td>\n",
              "      <td>21.540000</td>\n",
              "      <td>102.950000</td>\n",
              "      <td>761.500000</td>\n",
              "      <td>0.105000</td>\n",
              "      <td>0.129500</td>\n",
              "      <td>0.125050</td>\n",
              "      <td>0.070525</td>\n",
              "      <td>0.195700</td>\n",
              "      <td>0.065765</td>\n",
              "    </tr>\n",
              "    <tr>\n",
              "      <th>max</th>\n",
              "      <td>9.113205e+08</td>\n",
              "      <td>1.000000</td>\n",
              "      <td>28.110000</td>\n",
              "      <td>39.280000</td>\n",
              "      <td>188.500000</td>\n",
              "      <td>2499.000000</td>\n",
              "      <td>0.144700</td>\n",
              "      <td>0.345400</td>\n",
              "      <td>0.426800</td>\n",
              "      <td>0.201200</td>\n",
              "      <td>0.304000</td>\n",
              "      <td>0.097440</td>\n",
              "    </tr>\n",
              "  </tbody>\n",
              "</table>\n",
              "</div>\n",
              "      <button class=\"colab-df-convert\" onclick=\"convertToInteractive('df-c6350aca-80f5-48ae-9547-7c259e369ce1')\"\n",
              "              title=\"Convert this dataframe to an interactive table.\"\n",
              "              style=\"display:none;\">\n",
              "        \n",
              "  <svg xmlns=\"http://www.w3.org/2000/svg\" height=\"24px\"viewBox=\"0 0 24 24\"\n",
              "       width=\"24px\">\n",
              "    <path d=\"M0 0h24v24H0V0z\" fill=\"none\"/>\n",
              "    <path d=\"M18.56 5.44l.94 2.06.94-2.06 2.06-.94-2.06-.94-.94-2.06-.94 2.06-2.06.94zm-11 1L8.5 8.5l.94-2.06 2.06-.94-2.06-.94L8.5 2.5l-.94 2.06-2.06.94zm10 10l.94 2.06.94-2.06 2.06-.94-2.06-.94-.94-2.06-.94 2.06-2.06.94z\"/><path d=\"M17.41 7.96l-1.37-1.37c-.4-.4-.92-.59-1.43-.59-.52 0-1.04.2-1.43.59L10.3 9.45l-7.72 7.72c-.78.78-.78 2.05 0 2.83L4 21.41c.39.39.9.59 1.41.59.51 0 1.02-.2 1.41-.59l7.78-7.78 2.81-2.81c.8-.78.8-2.07 0-2.86zM5.41 20L4 18.59l7.72-7.72 1.47 1.35L5.41 20z\"/>\n",
              "  </svg>\n",
              "      </button>\n",
              "      \n",
              "  <style>\n",
              "    .colab-df-container {\n",
              "      display:flex;\n",
              "      flex-wrap:wrap;\n",
              "      gap: 12px;\n",
              "    }\n",
              "\n",
              "    .colab-df-convert {\n",
              "      background-color: #E8F0FE;\n",
              "      border: none;\n",
              "      border-radius: 50%;\n",
              "      cursor: pointer;\n",
              "      display: none;\n",
              "      fill: #1967D2;\n",
              "      height: 32px;\n",
              "      padding: 0 0 0 0;\n",
              "      width: 32px;\n",
              "    }\n",
              "\n",
              "    .colab-df-convert:hover {\n",
              "      background-color: #E2EBFA;\n",
              "      box-shadow: 0px 1px 2px rgba(60, 64, 67, 0.3), 0px 1px 3px 1px rgba(60, 64, 67, 0.15);\n",
              "      fill: #174EA6;\n",
              "    }\n",
              "\n",
              "    [theme=dark] .colab-df-convert {\n",
              "      background-color: #3B4455;\n",
              "      fill: #D2E3FC;\n",
              "    }\n",
              "\n",
              "    [theme=dark] .colab-df-convert:hover {\n",
              "      background-color: #434B5C;\n",
              "      box-shadow: 0px 1px 3px 1px rgba(0, 0, 0, 0.15);\n",
              "      filter: drop-shadow(0px 1px 2px rgba(0, 0, 0, 0.3));\n",
              "      fill: #FFFFFF;\n",
              "    }\n",
              "  </style>\n",
              "\n",
              "      <script>\n",
              "        const buttonEl =\n",
              "          document.querySelector('#df-c6350aca-80f5-48ae-9547-7c259e369ce1 button.colab-df-convert');\n",
              "        buttonEl.style.display =\n",
              "          google.colab.kernel.accessAllowed ? 'block' : 'none';\n",
              "\n",
              "        async function convertToInteractive(key) {\n",
              "          const element = document.querySelector('#df-c6350aca-80f5-48ae-9547-7c259e369ce1');\n",
              "          const dataTable =\n",
              "            await google.colab.kernel.invokeFunction('convertToInteractive',\n",
              "                                                     [key], {});\n",
              "          if (!dataTable) return;\n",
              "\n",
              "          const docLinkHtml = 'Like what you see? Visit the ' +\n",
              "            '<a target=\"_blank\" href=https://colab.research.google.com/notebooks/data_table.ipynb>data table notebook</a>'\n",
              "            + ' to learn more about interactive tables.';\n",
              "          element.innerHTML = '';\n",
              "          dataTable['output_type'] = 'display_data';\n",
              "          await google.colab.output.renderOutput(dataTable, element);\n",
              "          const docLink = document.createElement('div');\n",
              "          docLink.innerHTML = docLinkHtml;\n",
              "          element.appendChild(docLink);\n",
              "        }\n",
              "      </script>\n",
              "    </div>\n",
              "  </div>\n",
              "  "
            ]
          },
          "metadata": {},
          "execution_count": 5
        }
      ]
    },
    {
      "cell_type": "code",
      "source": [
        "data_original['diagnostico'].sum() / 455"
      ],
      "metadata": {
        "colab": {
          "base_uri": "https://localhost:8080/"
        },
        "id": "5dpS8X_ihxUR",
        "outputId": "897ad9de-2fbf-470d-8c96-6cf7cf6a5066"
      },
      "execution_count": 9,
      "outputs": [
        {
          "output_type": "execute_result",
          "data": {
            "text/plain": [
              "0.37142857142857144"
            ]
          },
          "metadata": {},
          "execution_count": 9
        }
      ]
    },
    {
      "cell_type": "markdown",
      "source": [
        "Crear muestras X para entrenamiento, donde ID y Diagnostico no hacen parte"
      ],
      "metadata": {
        "id": "uZPqZevRuhMT"
      }
    },
    {
      "cell_type": "code",
      "source": [
        "X_train_pre = data_original.iloc[:, 2:]\n",
        "X_train_pre.head()"
      ],
      "metadata": {
        "colab": {
          "base_uri": "https://localhost:8080/",
          "height": 206
        },
        "id": "B9dRsOSS5cc7",
        "outputId": "108e5736-53cc-40d2-8916-a4ed24198a98"
      },
      "execution_count": 6,
      "outputs": [
        {
          "output_type": "execute_result",
          "data": {
            "text/plain": [
              "   radio  textura  perimetro    area  suavidad  compacidad  concavidad  \\\n",
              "0  17.99    10.38     122.80  1001.0   0.11840     0.27760      0.3001   \n",
              "1  20.57    17.77     132.90  1326.0   0.08474     0.07864      0.0869   \n",
              "2  19.69    21.25     130.00  1203.0   0.10960     0.15990      0.1974   \n",
              "3  11.42    20.38      77.58   386.1   0.14250     0.28390      0.2414   \n",
              "4  20.29    14.34     135.10  1297.0   0.10030     0.13280      0.1980   \n",
              "\n",
              "   puntos_concavos  simetria  dimension_fractal  \n",
              "0          0.14710    0.2419            0.07871  \n",
              "1          0.07017    0.1812            0.05667  \n",
              "2          0.12790    0.2069            0.05999  \n",
              "3          0.10520    0.2597            0.09744  \n",
              "4          0.10430    0.1809            0.05883  "
            ],
            "text/html": [
              "\n",
              "  <div id=\"df-2c7c8533-fce7-41d8-bb6f-cc5110d61960\">\n",
              "    <div class=\"colab-df-container\">\n",
              "      <div>\n",
              "<style scoped>\n",
              "    .dataframe tbody tr th:only-of-type {\n",
              "        vertical-align: middle;\n",
              "    }\n",
              "\n",
              "    .dataframe tbody tr th {\n",
              "        vertical-align: top;\n",
              "    }\n",
              "\n",
              "    .dataframe thead th {\n",
              "        text-align: right;\n",
              "    }\n",
              "</style>\n",
              "<table border=\"1\" class=\"dataframe\">\n",
              "  <thead>\n",
              "    <tr style=\"text-align: right;\">\n",
              "      <th></th>\n",
              "      <th>radio</th>\n",
              "      <th>textura</th>\n",
              "      <th>perimetro</th>\n",
              "      <th>area</th>\n",
              "      <th>suavidad</th>\n",
              "      <th>compacidad</th>\n",
              "      <th>concavidad</th>\n",
              "      <th>puntos_concavos</th>\n",
              "      <th>simetria</th>\n",
              "      <th>dimension_fractal</th>\n",
              "    </tr>\n",
              "  </thead>\n",
              "  <tbody>\n",
              "    <tr>\n",
              "      <th>0</th>\n",
              "      <td>17.99</td>\n",
              "      <td>10.38</td>\n",
              "      <td>122.80</td>\n",
              "      <td>1001.0</td>\n",
              "      <td>0.11840</td>\n",
              "      <td>0.27760</td>\n",
              "      <td>0.3001</td>\n",
              "      <td>0.14710</td>\n",
              "      <td>0.2419</td>\n",
              "      <td>0.07871</td>\n",
              "    </tr>\n",
              "    <tr>\n",
              "      <th>1</th>\n",
              "      <td>20.57</td>\n",
              "      <td>17.77</td>\n",
              "      <td>132.90</td>\n",
              "      <td>1326.0</td>\n",
              "      <td>0.08474</td>\n",
              "      <td>0.07864</td>\n",
              "      <td>0.0869</td>\n",
              "      <td>0.07017</td>\n",
              "      <td>0.1812</td>\n",
              "      <td>0.05667</td>\n",
              "    </tr>\n",
              "    <tr>\n",
              "      <th>2</th>\n",
              "      <td>19.69</td>\n",
              "      <td>21.25</td>\n",
              "      <td>130.00</td>\n",
              "      <td>1203.0</td>\n",
              "      <td>0.10960</td>\n",
              "      <td>0.15990</td>\n",
              "      <td>0.1974</td>\n",
              "      <td>0.12790</td>\n",
              "      <td>0.2069</td>\n",
              "      <td>0.05999</td>\n",
              "    </tr>\n",
              "    <tr>\n",
              "      <th>3</th>\n",
              "      <td>11.42</td>\n",
              "      <td>20.38</td>\n",
              "      <td>77.58</td>\n",
              "      <td>386.1</td>\n",
              "      <td>0.14250</td>\n",
              "      <td>0.28390</td>\n",
              "      <td>0.2414</td>\n",
              "      <td>0.10520</td>\n",
              "      <td>0.2597</td>\n",
              "      <td>0.09744</td>\n",
              "    </tr>\n",
              "    <tr>\n",
              "      <th>4</th>\n",
              "      <td>20.29</td>\n",
              "      <td>14.34</td>\n",
              "      <td>135.10</td>\n",
              "      <td>1297.0</td>\n",
              "      <td>0.10030</td>\n",
              "      <td>0.13280</td>\n",
              "      <td>0.1980</td>\n",
              "      <td>0.10430</td>\n",
              "      <td>0.1809</td>\n",
              "      <td>0.05883</td>\n",
              "    </tr>\n",
              "  </tbody>\n",
              "</table>\n",
              "</div>\n",
              "      <button class=\"colab-df-convert\" onclick=\"convertToInteractive('df-2c7c8533-fce7-41d8-bb6f-cc5110d61960')\"\n",
              "              title=\"Convert this dataframe to an interactive table.\"\n",
              "              style=\"display:none;\">\n",
              "        \n",
              "  <svg xmlns=\"http://www.w3.org/2000/svg\" height=\"24px\"viewBox=\"0 0 24 24\"\n",
              "       width=\"24px\">\n",
              "    <path d=\"M0 0h24v24H0V0z\" fill=\"none\"/>\n",
              "    <path d=\"M18.56 5.44l.94 2.06.94-2.06 2.06-.94-2.06-.94-.94-2.06-.94 2.06-2.06.94zm-11 1L8.5 8.5l.94-2.06 2.06-.94-2.06-.94L8.5 2.5l-.94 2.06-2.06.94zm10 10l.94 2.06.94-2.06 2.06-.94-2.06-.94-.94-2.06-.94 2.06-2.06.94z\"/><path d=\"M17.41 7.96l-1.37-1.37c-.4-.4-.92-.59-1.43-.59-.52 0-1.04.2-1.43.59L10.3 9.45l-7.72 7.72c-.78.78-.78 2.05 0 2.83L4 21.41c.39.39.9.59 1.41.59.51 0 1.02-.2 1.41-.59l7.78-7.78 2.81-2.81c.8-.78.8-2.07 0-2.86zM5.41 20L4 18.59l7.72-7.72 1.47 1.35L5.41 20z\"/>\n",
              "  </svg>\n",
              "      </button>\n",
              "      \n",
              "  <style>\n",
              "    .colab-df-container {\n",
              "      display:flex;\n",
              "      flex-wrap:wrap;\n",
              "      gap: 12px;\n",
              "    }\n",
              "\n",
              "    .colab-df-convert {\n",
              "      background-color: #E8F0FE;\n",
              "      border: none;\n",
              "      border-radius: 50%;\n",
              "      cursor: pointer;\n",
              "      display: none;\n",
              "      fill: #1967D2;\n",
              "      height: 32px;\n",
              "      padding: 0 0 0 0;\n",
              "      width: 32px;\n",
              "    }\n",
              "\n",
              "    .colab-df-convert:hover {\n",
              "      background-color: #E2EBFA;\n",
              "      box-shadow: 0px 1px 2px rgba(60, 64, 67, 0.3), 0px 1px 3px 1px rgba(60, 64, 67, 0.15);\n",
              "      fill: #174EA6;\n",
              "    }\n",
              "\n",
              "    [theme=dark] .colab-df-convert {\n",
              "      background-color: #3B4455;\n",
              "      fill: #D2E3FC;\n",
              "    }\n",
              "\n",
              "    [theme=dark] .colab-df-convert:hover {\n",
              "      background-color: #434B5C;\n",
              "      box-shadow: 0px 1px 3px 1px rgba(0, 0, 0, 0.15);\n",
              "      filter: drop-shadow(0px 1px 2px rgba(0, 0, 0, 0.3));\n",
              "      fill: #FFFFFF;\n",
              "    }\n",
              "  </style>\n",
              "\n",
              "      <script>\n",
              "        const buttonEl =\n",
              "          document.querySelector('#df-2c7c8533-fce7-41d8-bb6f-cc5110d61960 button.colab-df-convert');\n",
              "        buttonEl.style.display =\n",
              "          google.colab.kernel.accessAllowed ? 'block' : 'none';\n",
              "\n",
              "        async function convertToInteractive(key) {\n",
              "          const element = document.querySelector('#df-2c7c8533-fce7-41d8-bb6f-cc5110d61960');\n",
              "          const dataTable =\n",
              "            await google.colab.kernel.invokeFunction('convertToInteractive',\n",
              "                                                     [key], {});\n",
              "          if (!dataTable) return;\n",
              "\n",
              "          const docLinkHtml = 'Like what you see? Visit the ' +\n",
              "            '<a target=\"_blank\" href=https://colab.research.google.com/notebooks/data_table.ipynb>data table notebook</a>'\n",
              "            + ' to learn more about interactive tables.';\n",
              "          element.innerHTML = '';\n",
              "          dataTable['output_type'] = 'display_data';\n",
              "          await google.colab.output.renderOutput(dataTable, element);\n",
              "          const docLink = document.createElement('div');\n",
              "          docLink.innerHTML = docLinkHtml;\n",
              "          element.appendChild(docLink);\n",
              "        }\n",
              "      </script>\n",
              "    </div>\n",
              "  </div>\n",
              "  "
            ]
          },
          "metadata": {},
          "execution_count": 6
        }
      ]
    },
    {
      "cell_type": "markdown",
      "source": [
        "Normalizar los datos para facilitar el proceso del Gradiente Descendente.\n",
        "\n",
        "$$\n",
        "X_{normalizado} = \\dfrac{X-X_{min}}{X_{max}-X_{min}}\n",
        "$$"
      ],
      "metadata": {
        "id": "G5kkAupFuxDs"
      }
    },
    {
      "cell_type": "code",
      "source": [
        "X_train_normalizado = X_train_pre.copy(deep=True)"
      ],
      "metadata": {
        "id": "MnHLq1JvlcvD"
      },
      "execution_count": 7,
      "outputs": []
    },
    {
      "cell_type": "code",
      "source": [
        "# normalizacion min-max\n",
        "for col in X_train_normalizado.columns:\n",
        "    min = X_train_normalizado[col].min()\n",
        "    max = X_train_normalizado[col].max()\n",
        "    X_train_normalizado[col] = (X_train_normalizado[col] - min) / (max - min)"
      ],
      "metadata": {
        "id": "fS52Itn7l5xO"
      },
      "execution_count": 8,
      "outputs": []
    },
    {
      "cell_type": "code",
      "source": [
        "X_train_normalizado.head()"
      ],
      "metadata": {
        "colab": {
          "base_uri": "https://localhost:8080/",
          "height": 206
        },
        "id": "f6rgJZ-yl0gT",
        "outputId": "b7e0a4cc-b474-468c-8476-84d9408b6010"
      },
      "execution_count": 9,
      "outputs": [
        {
          "output_type": "execute_result",
          "data": {
            "text/plain": [
              "      radio   textura  perimetro      area  suavidad  compacidad  concavidad  \\\n",
              "0  0.521037  0.022658   0.545989  0.364042  0.680010    0.792037    0.703140   \n",
              "1  0.643144  0.272574   0.615783  0.502017  0.270471    0.181768    0.203608   \n",
              "2  0.601496  0.390260   0.595743  0.449798  0.572941    0.431017    0.462512   \n",
              "3  0.210090  0.360839   0.233501  0.102993  0.973233    0.811361    0.565604   \n",
              "4  0.629893  0.156578   0.630986  0.489705  0.459788    0.347893    0.463918   \n",
              "\n",
              "   puntos_concavos  simetria  dimension_fractal  \n",
              "0         0.731113  0.668446           0.605518  \n",
              "1         0.348757  0.344367           0.141323  \n",
              "2         0.635686  0.481580           0.211247  \n",
              "3         0.522863  0.763481           1.000000  \n",
              "4         0.518390  0.342766           0.186816  "
            ],
            "text/html": [
              "\n",
              "  <div id=\"df-d8c66006-573f-4ad5-bfec-241e7cae7a3d\">\n",
              "    <div class=\"colab-df-container\">\n",
              "      <div>\n",
              "<style scoped>\n",
              "    .dataframe tbody tr th:only-of-type {\n",
              "        vertical-align: middle;\n",
              "    }\n",
              "\n",
              "    .dataframe tbody tr th {\n",
              "        vertical-align: top;\n",
              "    }\n",
              "\n",
              "    .dataframe thead th {\n",
              "        text-align: right;\n",
              "    }\n",
              "</style>\n",
              "<table border=\"1\" class=\"dataframe\">\n",
              "  <thead>\n",
              "    <tr style=\"text-align: right;\">\n",
              "      <th></th>\n",
              "      <th>radio</th>\n",
              "      <th>textura</th>\n",
              "      <th>perimetro</th>\n",
              "      <th>area</th>\n",
              "      <th>suavidad</th>\n",
              "      <th>compacidad</th>\n",
              "      <th>concavidad</th>\n",
              "      <th>puntos_concavos</th>\n",
              "      <th>simetria</th>\n",
              "      <th>dimension_fractal</th>\n",
              "    </tr>\n",
              "  </thead>\n",
              "  <tbody>\n",
              "    <tr>\n",
              "      <th>0</th>\n",
              "      <td>0.521037</td>\n",
              "      <td>0.022658</td>\n",
              "      <td>0.545989</td>\n",
              "      <td>0.364042</td>\n",
              "      <td>0.680010</td>\n",
              "      <td>0.792037</td>\n",
              "      <td>0.703140</td>\n",
              "      <td>0.731113</td>\n",
              "      <td>0.668446</td>\n",
              "      <td>0.605518</td>\n",
              "    </tr>\n",
              "    <tr>\n",
              "      <th>1</th>\n",
              "      <td>0.643144</td>\n",
              "      <td>0.272574</td>\n",
              "      <td>0.615783</td>\n",
              "      <td>0.502017</td>\n",
              "      <td>0.270471</td>\n",
              "      <td>0.181768</td>\n",
              "      <td>0.203608</td>\n",
              "      <td>0.348757</td>\n",
              "      <td>0.344367</td>\n",
              "      <td>0.141323</td>\n",
              "    </tr>\n",
              "    <tr>\n",
              "      <th>2</th>\n",
              "      <td>0.601496</td>\n",
              "      <td>0.390260</td>\n",
              "      <td>0.595743</td>\n",
              "      <td>0.449798</td>\n",
              "      <td>0.572941</td>\n",
              "      <td>0.431017</td>\n",
              "      <td>0.462512</td>\n",
              "      <td>0.635686</td>\n",
              "      <td>0.481580</td>\n",
              "      <td>0.211247</td>\n",
              "    </tr>\n",
              "    <tr>\n",
              "      <th>3</th>\n",
              "      <td>0.210090</td>\n",
              "      <td>0.360839</td>\n",
              "      <td>0.233501</td>\n",
              "      <td>0.102993</td>\n",
              "      <td>0.973233</td>\n",
              "      <td>0.811361</td>\n",
              "      <td>0.565604</td>\n",
              "      <td>0.522863</td>\n",
              "      <td>0.763481</td>\n",
              "      <td>1.000000</td>\n",
              "    </tr>\n",
              "    <tr>\n",
              "      <th>4</th>\n",
              "      <td>0.629893</td>\n",
              "      <td>0.156578</td>\n",
              "      <td>0.630986</td>\n",
              "      <td>0.489705</td>\n",
              "      <td>0.459788</td>\n",
              "      <td>0.347893</td>\n",
              "      <td>0.463918</td>\n",
              "      <td>0.518390</td>\n",
              "      <td>0.342766</td>\n",
              "      <td>0.186816</td>\n",
              "    </tr>\n",
              "  </tbody>\n",
              "</table>\n",
              "</div>\n",
              "      <button class=\"colab-df-convert\" onclick=\"convertToInteractive('df-d8c66006-573f-4ad5-bfec-241e7cae7a3d')\"\n",
              "              title=\"Convert this dataframe to an interactive table.\"\n",
              "              style=\"display:none;\">\n",
              "        \n",
              "  <svg xmlns=\"http://www.w3.org/2000/svg\" height=\"24px\"viewBox=\"0 0 24 24\"\n",
              "       width=\"24px\">\n",
              "    <path d=\"M0 0h24v24H0V0z\" fill=\"none\"/>\n",
              "    <path d=\"M18.56 5.44l.94 2.06.94-2.06 2.06-.94-2.06-.94-.94-2.06-.94 2.06-2.06.94zm-11 1L8.5 8.5l.94-2.06 2.06-.94-2.06-.94L8.5 2.5l-.94 2.06-2.06.94zm10 10l.94 2.06.94-2.06 2.06-.94-2.06-.94-.94-2.06-.94 2.06-2.06.94z\"/><path d=\"M17.41 7.96l-1.37-1.37c-.4-.4-.92-.59-1.43-.59-.52 0-1.04.2-1.43.59L10.3 9.45l-7.72 7.72c-.78.78-.78 2.05 0 2.83L4 21.41c.39.39.9.59 1.41.59.51 0 1.02-.2 1.41-.59l7.78-7.78 2.81-2.81c.8-.78.8-2.07 0-2.86zM5.41 20L4 18.59l7.72-7.72 1.47 1.35L5.41 20z\"/>\n",
              "  </svg>\n",
              "      </button>\n",
              "      \n",
              "  <style>\n",
              "    .colab-df-container {\n",
              "      display:flex;\n",
              "      flex-wrap:wrap;\n",
              "      gap: 12px;\n",
              "    }\n",
              "\n",
              "    .colab-df-convert {\n",
              "      background-color: #E8F0FE;\n",
              "      border: none;\n",
              "      border-radius: 50%;\n",
              "      cursor: pointer;\n",
              "      display: none;\n",
              "      fill: #1967D2;\n",
              "      height: 32px;\n",
              "      padding: 0 0 0 0;\n",
              "      width: 32px;\n",
              "    }\n",
              "\n",
              "    .colab-df-convert:hover {\n",
              "      background-color: #E2EBFA;\n",
              "      box-shadow: 0px 1px 2px rgba(60, 64, 67, 0.3), 0px 1px 3px 1px rgba(60, 64, 67, 0.15);\n",
              "      fill: #174EA6;\n",
              "    }\n",
              "\n",
              "    [theme=dark] .colab-df-convert {\n",
              "      background-color: #3B4455;\n",
              "      fill: #D2E3FC;\n",
              "    }\n",
              "\n",
              "    [theme=dark] .colab-df-convert:hover {\n",
              "      background-color: #434B5C;\n",
              "      box-shadow: 0px 1px 3px 1px rgba(0, 0, 0, 0.15);\n",
              "      filter: drop-shadow(0px 1px 2px rgba(0, 0, 0, 0.3));\n",
              "      fill: #FFFFFF;\n",
              "    }\n",
              "  </style>\n",
              "\n",
              "      <script>\n",
              "        const buttonEl =\n",
              "          document.querySelector('#df-d8c66006-573f-4ad5-bfec-241e7cae7a3d button.colab-df-convert');\n",
              "        buttonEl.style.display =\n",
              "          google.colab.kernel.accessAllowed ? 'block' : 'none';\n",
              "\n",
              "        async function convertToInteractive(key) {\n",
              "          const element = document.querySelector('#df-d8c66006-573f-4ad5-bfec-241e7cae7a3d');\n",
              "          const dataTable =\n",
              "            await google.colab.kernel.invokeFunction('convertToInteractive',\n",
              "                                                     [key], {});\n",
              "          if (!dataTable) return;\n",
              "\n",
              "          const docLinkHtml = 'Like what you see? Visit the ' +\n",
              "            '<a target=\"_blank\" href=https://colab.research.google.com/notebooks/data_table.ipynb>data table notebook</a>'\n",
              "            + ' to learn more about interactive tables.';\n",
              "          element.innerHTML = '';\n",
              "          dataTable['output_type'] = 'display_data';\n",
              "          await google.colab.output.renderOutput(dataTable, element);\n",
              "          const docLink = document.createElement('div');\n",
              "          docLink.innerHTML = docLinkHtml;\n",
              "          element.appendChild(docLink);\n",
              "        }\n",
              "      </script>\n",
              "    </div>\n",
              "  </div>\n",
              "  "
            ]
          },
          "metadata": {},
          "execution_count": 9
        }
      ]
    },
    {
      "cell_type": "markdown",
      "source": [
        "Transponer la matriz X para que quede de forma `(# de muestras, # de caracteristicas)`"
      ],
      "metadata": {
        "id": "frHbAsQNvccU"
      }
    },
    {
      "cell_type": "code",
      "source": [
        "X_train_array = X_train_normalizado.to_numpy().T\n",
        "X_train_array.shape"
      ],
      "metadata": {
        "colab": {
          "base_uri": "https://localhost:8080/"
        },
        "id": "-hVEl-9W5wkS",
        "outputId": "3d3cefd8-e2b7-4603-c18e-ceb9febdb5f8"
      },
      "execution_count": 10,
      "outputs": [
        {
          "output_type": "execute_result",
          "data": {
            "text/plain": [
              "(10, 455)"
            ]
          },
          "metadata": {},
          "execution_count": 10
        }
      ]
    },
    {
      "cell_type": "markdown",
      "source": [
        "Obtener las etiquetas verdaderas Y"
      ],
      "metadata": {
        "id": "ojzADeFjvzEu"
      }
    },
    {
      "cell_type": "code",
      "source": [
        "Y_train = data_original.iloc[:, 1]\n",
        "Y_train.head()"
      ],
      "metadata": {
        "colab": {
          "base_uri": "https://localhost:8080/"
        },
        "id": "wPvn73O65uyj",
        "outputId": "1adab69d-355f-4861-f52a-c6b416c18068"
      },
      "execution_count": 11,
      "outputs": [
        {
          "output_type": "execute_result",
          "data": {
            "text/plain": [
              "0    1\n",
              "1    1\n",
              "2    1\n",
              "3    1\n",
              "4    1\n",
              "Name: diagnostico, dtype: int64"
            ]
          },
          "metadata": {},
          "execution_count": 11
        }
      ]
    },
    {
      "cell_type": "markdown",
      "source": [
        "Convertir el vector Y con forma (455,1) a una matriz (2, 455). OneHot Encoding.\n",
        "\n",
        "$$\n",
        "\\left.\\begin{matrix}\n",
        "Fila \\,\\, 1 \\,\\, (Benigno)\\\\ \n",
        "Fila \\,\\, 2 \\,\\, (Maligno)\n",
        "\\end{matrix}\\right. \\begin{bmatrix}\n",
        "0 & 0 & 0 & ... & 1 & 1 & \\\\ \n",
        "1 & 1 & 1 & ... & 0 & 0 & \n",
        "\\end{bmatrix}\n",
        "$$\n",
        "\n"
      ],
      "metadata": {
        "id": "JcrP1-xvv8v8"
      }
    },
    {
      "cell_type": "code",
      "source": [
        "Y_train_array_pre = Y_train.to_numpy()\n",
        "\n",
        "Y_train_array = np.eye(2)[Y_train_array_pre]\n",
        "\n",
        "Y_train_array = Y_train_array.T\n",
        "Y_train_array.shape"
      ],
      "metadata": {
        "colab": {
          "base_uri": "https://localhost:8080/"
        },
        "id": "Wl-kaCeY6G7b",
        "outputId": "4ff2a76c-5639-49a1-df2e-55dc56476811"
      },
      "execution_count": 12,
      "outputs": [
        {
          "output_type": "execute_result",
          "data": {
            "text/plain": [
              "(2, 455)"
            ]
          },
          "metadata": {},
          "execution_count": 12
        }
      ]
    },
    {
      "cell_type": "code",
      "source": [
        "Y_train_array[:, :3]"
      ],
      "metadata": {
        "colab": {
          "base_uri": "https://localhost:8080/"
        },
        "id": "ISGwpAK8wtys",
        "outputId": "ab24845f-b7ad-46d8-e3c0-263a7ddfe806"
      },
      "execution_count": 13,
      "outputs": [
        {
          "output_type": "execute_result",
          "data": {
            "text/plain": [
              "array([[0., 0., 0.],\n",
              "       [1., 1., 1.]])"
            ]
          },
          "metadata": {},
          "execution_count": 13
        }
      ]
    },
    {
      "cell_type": "markdown",
      "source": [
        "#### Funciones de Activación"
      ],
      "metadata": {
        "id": "COMLRP7Olwro"
      }
    },
    {
      "cell_type": "markdown",
      "source": [
        "**Tangente Hiperbólica**\n",
        "\n",
        "$$\n",
        "tanh(x) = \\dfrac{e^x - e^{-x}}{e^x + e^{-x}}\n",
        "$$"
      ],
      "metadata": {
        "id": "DrqjHcg-2pVq"
      }
    },
    {
      "cell_type": "code",
      "source": [
        "def tanh(Z):\n",
        "    tanh = ((np.exp(Z) - np.exp(-Z))/(np.exp(Z) + np.exp(-Z)))\n",
        "    return tanh\n",
        "\n",
        "## tf.math.tanh"
      ],
      "metadata": {
        "id": "EPyTvWWxly3Y"
      },
      "execution_count": 14,
      "outputs": []
    },
    {
      "cell_type": "code",
      "source": [
        "puntos = np.linspace(-10, 10, num=100)\n",
        "plt.figure(figsize=(5,3))\n",
        "plt.plot(puntos, tanh(puntos))\n",
        "plt.grid()\n",
        "plt.show()"
      ],
      "metadata": {
        "colab": {
          "base_uri": "https://localhost:8080/",
          "height": 291
        },
        "id": "aG9CKHBW1Ofm",
        "outputId": "74887d94-c160-4f14-eb2f-2ba61e403865"
      },
      "execution_count": 15,
      "outputs": [
        {
          "output_type": "display_data",
          "data": {
            "text/plain": [
              "<Figure size 500x300 with 1 Axes>"
            ],
            "image/png": "[encoded data removed]"
          },
          "metadata": {}
        }
      ]
    },
    {
      "cell_type": "markdown",
      "source": [
        "**Derivada de tangente hiperbólica**"
      ],
      "metadata": {
        "id": "MFQOwBlw30cy"
      }
    },
    {
      "cell_type": "markdown",
      "source": [
        "$$\n",
        "f(x) = tanh(x) \\\\\n",
        "f'(x) = 1 - tanh^2(x)\n",
        "$$"
      ],
      "metadata": {
        "id": "QrZEDK7R26-_"
      }
    },
    {
      "cell_type": "code",
      "source": [
        "def tanh_derivada(Z):\n",
        "    return 1 - np.power(Z, 2)"
      ],
      "metadata": {
        "id": "ZYjtPE7Nt6tB"
      },
      "execution_count": 16,
      "outputs": []
    },
    {
      "cell_type": "markdown",
      "source": [
        "**Sigmoide**\n",
        "\n",
        "$$\n",
        "\\sigma (x) = \\dfrac{1}{1+e^{-x}}\n",
        "$$"
      ],
      "metadata": {
        "id": "wpFjsnsh3ZQI"
      }
    },
    {
      "cell_type": "code",
      "source": [
        "def sigmoide(Z):\n",
        "    Z = np.array(Z, dtype=np.float128)\n",
        "    sigmoide = 1 / (1 + np.exp(-Z))\n",
        "    return sigmoide\n",
        "\n",
        "## tf.math.sigmoid"
      ],
      "metadata": {
        "id": "FAhgnBsRmMvg"
      },
      "execution_count": 17,
      "outputs": []
    },
    {
      "cell_type": "code",
      "source": [
        "plt.figure(figsize=(5,3))\n",
        "plt.plot(puntos, sigmoide(puntos))\n",
        "plt.grid()\n",
        "plt.show()"
      ],
      "metadata": {
        "colab": {
          "base_uri": "https://localhost:8080/",
          "height": 291
        },
        "id": "0qWh9Hpb2J77",
        "outputId": "33200bb8-3042-4161-8a1d-c321918eaaff"
      },
      "execution_count": 18,
      "outputs": [
        {
          "output_type": "display_data",
          "data": {
            "text/plain": [
              "<Figure size 500x300 with 1 Axes>"
            ],
            "image/png": "[encoded data removed]"
          },
          "metadata": {}
        }
      ]
    },
    {
      "cell_type": "markdown",
      "source": [
        "**Derivada de Sigmoide**\n",
        "\n",
        "$$\n",
        "\\sigma ' (x) = \\dfrac{e^{-x}}{(1+e^{-x})^2} = \\sigma (x) (1 - \\sigma (x))\n",
        "$$"
      ],
      "metadata": {
        "id": "cZyXweaD6GmY"
      }
    },
    {
      "cell_type": "code",
      "source": [
        "def sigmoide_derivada(Z):\n",
        "    return Z * (1 - Z)"
      ],
      "metadata": {
        "id": "ECDv7evBsh61"
      },
      "execution_count": 19,
      "outputs": []
    },
    {
      "cell_type": "markdown",
      "source": [
        "**Softmax**\n",
        "\n",
        "$$\n",
        "\\sigma(\\vec{z})_i = \\dfrac{e^{z_i}}{\\sum_{j=1}^{K} e^{z_j}} \\,\\,\\,\\, para \\,\\, i = 1, ..., K\n",
        "$$"
      ],
      "metadata": {
        "id": "RvSD-5qW6e-_"
      }
    },
    {
      "cell_type": "code",
      "source": [
        "def softmax(Z):\n",
        "    e_Z = np.exp(Z - np.max(Z))\n",
        "    softmax = e_Z / e_Z.sum(axis=0)\n",
        "    return softmax\n",
        "\n",
        "## tf.nn.softmax"
      ],
      "metadata": {
        "id": "uoIr1gzZmyUo"
      },
      "execution_count": 20,
      "outputs": []
    },
    {
      "cell_type": "markdown",
      "source": [
        "#### Inicializar Parametros\n",
        "\n",
        "|Capa   |Tamaño de $W$      |Tamaño de $b$ |\n",
        "|-------|-------------------|------------------|\n",
        "|Capa 1 | $$(10 \\times 10)$$|$$(10 \\times 1)$$ | \n",
        "|Capa 2 | $$(12 \\times 10)$$|$$(12 \\times 1)$$ | \n",
        "|Capa 3 | $$(9 \\times 12)$$ |$$(9 \\times 1)$$  | \n",
        "|Capa 4 | $$(5 \\times 9)$$  |$$(5 \\times 1)$$  | \n",
        "|Capa 5 | $$(2 \\times 5)$$  |$$(2 \\times 1)$$  | "
      ],
      "metadata": {
        "id": "xZS7XvGMcFKh"
      }
    },
    {
      "cell_type": "code",
      "source": [
        "def inicializar_parametros(neur_x, neur_L1, neur_L2, neur_L3, neur_L4, neur_y):\n",
        "    \"\"\"\n",
        "    neur_x  -- tamaño de la capa de entrada\n",
        "    neur_L1 -- tamaño de la capa de oculta L1\n",
        "    neur_L2 -- tamaño de la capa de oculta L2\n",
        "    neur_L3 -- tamaño de la capa de oculta L3\n",
        "    neur_L4 -- tamaño de la capa de oculta L4\n",
        "    neur_y  -- tamaño de la capa de salida\n",
        "    \n",
        "    Retorna:\n",
        "        parametros -- diccionario con los parametros inicializados aleatoriamente\n",
        "    \"\"\"\n",
        "    \n",
        "    W1 = np.random.randn(neur_L1, neur_x) * 0.1\n",
        "    b1 = np.zeros((neur_L1, 1))\n",
        "    W2 = np.random.randn(neur_L2, neur_L1) * 0.1\n",
        "    b2 = np.zeros((neur_L2, 1))\n",
        "    W3 = np.random.randn(neur_L3, neur_L2) * 0.1\n",
        "    b3 = np.zeros((neur_L3, 1))\n",
        "    W4 = np.random.randn(neur_L4, neur_L3) * 0.1\n",
        "    b4 = np.zeros((neur_L4, 1))\n",
        "    W5 = np.random.randn(neur_y, neur_L4) * 0.1\n",
        "    b5 = np.zeros((neur_y, 1))\n",
        "    \n",
        "    parametros = {\"W1\": W1, \"b1\": b1, \"W2\": W2, \"b2\": b2, \"W3\": W3, \"b3\": b3, \"W4\": W4, \"b4\": b4, \"W5\": W5, \"b5\": b5}\n",
        "\n",
        "    return parametros"
      ],
      "metadata": {
        "id": "hJ_PxrrVbBVp"
      },
      "execution_count": 22,
      "outputs": []
    },
    {
      "cell_type": "code",
      "source": [
        "parametros_prueba = inicializar_parametros(neur_x=10, neur_L1=10, neur_L2=12, neur_L3=9, neur_L4=5, neur_y=2)\n",
        "parametros_prueba['W5']"
      ],
      "metadata": {
        "colab": {
          "base_uri": "https://localhost:8080/"
        },
        "id": "XBtNOZznhfDa",
        "outputId": "4915ad56-374d-45dc-87c2-6bf6fd89e266"
      },
      "execution_count": 23,
      "outputs": [
        {
          "output_type": "execute_result",
          "data": {
            "text/plain": [
              "array([[-0.03470262, -0.1510941 , -0.01496282,  0.04403214,  0.03369286],\n",
              "       [-0.11836062, -0.01005723, -0.02551299, -0.00566843,  0.07361299]])"
            ]
          },
          "metadata": {},
          "execution_count": 23
        }
      ]
    },
    {
      "cell_type": "code",
      "source": [
        "parametros_prueba['b5']"
      ],
      "metadata": {
        "colab": {
          "base_uri": "https://localhost:8080/"
        },
        "id": "4o8ZZ-md8xJC",
        "outputId": "46228704-0e5f-45c1-8144-12077ea844eb"
      },
      "execution_count": 24,
      "outputs": [
        {
          "output_type": "execute_result",
          "data": {
            "text/plain": [
              "array([[0.],\n",
              "       [0.]])"
            ]
          },
          "metadata": {},
          "execution_count": 24
        }
      ]
    },
    {
      "cell_type": "markdown",
      "source": [
        "#### Forward propagation"
      ],
      "metadata": {
        "id": "bbMrydX4kv6Q"
      }
    },
    {
      "cell_type": "markdown",
      "source": [
        "$$ Z^{[1]} = W^{[1]} X + b^{[1]}, \\,\\,\\,\\,\\, A^{[1]} = tanh(Z^{[1]}) $$ \n",
        "$$ Z^{[2]} = W^{[2]} A^{[1]} + b^{[2]}, \\,\\,\\,\\,\\, A^{[2]} = tanh(Z^{[2]}) $$ \n",
        "$$ Z^{[3]} = W^{[3]} A^{[2]} + b^{[3]}, \\,\\,\\,\\,\\, A^{[3]} = tanh(Z^{[3]}) $$\n",
        "$$ Z^{[4]} = W^{[4]} A^{[3]} + b^{[4]}, \\,\\,\\,\\,\\, A^{[4]} = tanh(Z^{[4]}) $$ \n",
        "$$ Z^{[5]} = W^{[5]} A^{[4]} + b^{[5]}, \\,\\,\\,\\,\\, A^{[5]} = softmax(Z^{[5]}) → \\hat Y $$ "
      ],
      "metadata": {
        "id": "Jc6ByaOV86lC"
      }
    },
    {
      "cell_type": "code",
      "source": [
        "def forward_propagation(X, parametros):\n",
        "    \"\"\"\n",
        "    X -- datos de entrada: (tamaño de la caracterisitcas, número de ejemplos)\n",
        "    parametros -- diccionario con los parametros \"W\" y \"b\" de cada capa\n",
        "\n",
        "    Retorna:\n",
        "        A5 -- salida de la ultima capa (Y sombrero)\n",
        "        cache -- diccionario con \"Z\" y \"A\" de cada capa (necesarios para calcular el backprop de manera eficiente)\n",
        "    \"\"\"\n",
        "    \n",
        "    W1, b1 = parametros[\"W1\"], parametros[\"b1\"]\n",
        "    W2, b2 = parametros[\"W2\"], parametros[\"b2\"]\n",
        "    W3, b3 = parametros[\"W3\"], parametros[\"b3\"]\n",
        "    W4, b4 = parametros[\"W4\"], parametros[\"b4\"]\n",
        "    W5, b5 = parametros[\"W5\"], parametros[\"b5\"]\n",
        "    \n",
        "    \n",
        "    Z1 = np.dot(W1,X) + b1\n",
        "    A1 = tanh(Z1)\n",
        "    Z2 = np.dot(W2,A1) + b2\n",
        "    A2 = tanh(Z2)\n",
        "    Z3 = np.dot(W3,A2) + b3\n",
        "    A3 = tanh(Z3)\n",
        "    Z4 = np.dot(W4,A3) + b4\n",
        "    A4 = tanh(Z4)\n",
        "    Z5 = np.dot(W5,A4) + b5\n",
        "    A5 = softmax(Z5)\n",
        "    \n",
        "    cache = {\"Z1\": Z1, \"A1\": A1, \"Z2\": Z2, \"A2\": A2, \"Z3\": Z3, \"A3\": A3, \"Z4\": Z4, \"A4\": A4, \"Z5\": Z5, \"A5\": A5}\n",
        "    \n",
        "    return A5, cache"
      ],
      "metadata": {
        "id": "ngfi9Wurh2ZD"
      },
      "execution_count": 26,
      "outputs": []
    },
    {
      "cell_type": "markdown",
      "source": [
        "#### Binary Cross Entropy\n",
        "\n",
        "$$\n",
        "J = -\\frac{1}{m} \\sum_{i=1}^{m} \\color{Red}{y_i \\cdot log(\\hat{y_i})} + \\color{Blue}{(1-y_i) \\cdot log(1-\\hat{y_i}))}\n",
        "$$"
      ],
      "metadata": {
        "id": "HzAu0mBZ_ATB"
      }
    },
    {
      "cell_type": "code",
      "source": [
        "def calcular_coste(A5, Y):\n",
        "    \"\"\"\n",
        "    Calcula el costo con la ecuación Cross Entropy\n",
        "    \n",
        "    Argumentos:\n",
        "    A5 -- Salida de la ultima capa, de forma (2, número de muestras)\n",
        "    Y -- matriz de etiquetas verdaderas, de forma (2, número de muestras)\n",
        "\n",
        "  \n",
        "    Retorna:\n",
        "        costo -- costo de la ecuación Cross Entropy\n",
        "    \n",
        "    \"\"\"\n",
        "\n",
        "    m = Y.shape[1]\n",
        "    costo = -(1/m) * np.sum(Y * np.log(A5+1e-10))\n",
        "\n",
        "    return costo"
      ],
      "metadata": {
        "id": "zYuEZgpUkf9z"
      },
      "execution_count": 27,
      "outputs": []
    },
    {
      "cell_type": "code",
      "source": [
        "y_pred = np.random.rand(2, 10)\n",
        "y_pred = softmax(y_pred)  # aplicamos softmax\n",
        "\n",
        "y_true = Y_train_array[:, :10]"
      ],
      "metadata": {
        "id": "-2OYGwsfy2_S"
      },
      "execution_count": 28,
      "outputs": []
    },
    {
      "cell_type": "code",
      "source": [
        "y_pred"
      ],
      "metadata": {
        "colab": {
          "base_uri": "https://localhost:8080/"
        },
        "id": "cPkLvUzzAhmi",
        "outputId": "36c5e3f2-915f-4167-e965-b7dca2d34701"
      },
      "execution_count": 32,
      "outputs": [
        {
          "output_type": "execute_result",
          "data": {
            "text/plain": [
              "array([[0.6361909 , 0.47394479, 0.50524737, 0.48765438, 0.46091329,\n",
              "        0.55291776, 0.33402209, 0.44693098, 0.50967472, 0.6522642 ],\n",
              "       [0.3638091 , 0.52605521, 0.49475263, 0.51234562, 0.53908671,\n",
              "        0.44708224, 0.66597791, 0.55306902, 0.49032528, 0.3477358 ]])"
            ]
          },
          "metadata": {},
          "execution_count": 32
        }
      ]
    },
    {
      "cell_type": "code",
      "source": [
        "y_true"
      ],
      "metadata": {
        "colab": {
          "base_uri": "https://localhost:8080/"
        },
        "id": "UsDJHaUkBgEq",
        "outputId": "284959d6-6bef-4ece-93de-b54e15de4976"
      },
      "execution_count": 29,
      "outputs": [
        {
          "output_type": "execute_result",
          "data": {
            "text/plain": [
              "array([[0., 0., 0., 0., 0., 0., 0., 0., 0., 0.],\n",
              "       [1., 1., 1., 1., 1., 1., 1., 1., 1., 1.]])"
            ]
          },
          "metadata": {},
          "execution_count": 29
        }
      ]
    },
    {
      "cell_type": "code",
      "source": [
        "calcular_coste(y_pred, y_true)"
      ],
      "metadata": {
        "colab": {
          "base_uri": "https://localhost:8080/"
        },
        "id": "PcbB7nAG-bug",
        "outputId": "f7780811-d0b4-4598-878d-8f2e96b786b8"
      },
      "execution_count": 30,
      "outputs": [
        {
          "output_type": "execute_result",
          "data": {
            "text/plain": [
              "0.7131924420552895"
            ]
          },
          "metadata": {},
          "execution_count": 30
        }
      ]
    },
    {
      "cell_type": "markdown",
      "source": [
        "#### Backpropagation\n",
        "\n",
        "$$\n",
        "J(w,x,b,y)\n",
        "$$\n",
        "\n",
        "$L$ depende de $a$, $a$ depende de $z$, y $z$ depende de $w$.\n",
        "\n",
        "$$ \\dfrac{\\partial J}{\\partial w} = \\dfrac{\\partial J}{\\partial a} \\cdot \\dfrac{\\partial a}{\\partial z} \\cdot \\dfrac{\\partial z}{\\partial w} $$\n",
        "\n",
        "$$ \\dfrac{\\partial J}{\\partial w} = (a-y)x $$\n",
        "\n",
        "Con notación matricial la expresión anterior se ve asi:\n",
        "\n",
        "$$ \\nabla J({\\bf{w}}) = \\frac{1}{m}\\sum_{i=1}^{m} (g({Z}_i) - Y_i)X_{i} $$\n",
        "\n",
        "$$ \\nabla J({\\bf{b}}) = \\frac{1}{m}\\sum_{i=1}^{m} (g({Z}_i)) $$\n"
      ],
      "metadata": {
        "id": "rx8oWI6AhllN"
      }
    },
    {
      "cell_type": "code",
      "source": [
        "def backward_propagation(parametros, cache, X, Y):\n",
        "    \"\"\"\n",
        "    parametros -- diccionario con los parametros\n",
        "    cache -- diccionario con Z y A de cada capa\n",
        "    X -- datos de entrada, de forma (10, número de muestras)\n",
        "    Y -- labels, de forma (2, número de muestras)\n",
        "    \n",
        "    Returns:\n",
        "        grads -- diccionario de gradientes con respecto a los diferente parametros\n",
        "    \"\"\"\n",
        "\n",
        "    m = X.shape[1]\n",
        "    \n",
        "    W1, b1 = parametros[\"W1\"], parametros[\"b1\"]\n",
        "    W2, b2 = parametros[\"W2\"], parametros[\"b2\"]\n",
        "    W3, b3 = parametros[\"W3\"], parametros[\"b3\"]\n",
        "    W4, b4 = parametros[\"W4\"], parametros[\"b4\"]\n",
        "    W5, b5 = parametros[\"W5\"], parametros[\"b5\"]\n",
        "        \n",
        "    A1, Z1 = cache[\"A1\"], cache[\"Z1\"]\n",
        "    A2, Z2 = cache[\"A2\"], cache[\"Z2\"]\n",
        "    A3, Z3 = cache[\"A3\"], cache[\"Z3\"]\n",
        "    A4, Z4 = cache[\"A4\"], cache[\"Z4\"]\n",
        "    A5, Z5 = cache[\"A5\"], cache[\"Z5\"]\n",
        "    \n",
        "    # Backward propagation: calcular dZ1, dW1, db1, dZ2, dW2, db2, ...\n",
        "    dZ5 = A5 - Y\n",
        "    dW5 = (1/m) * (np.dot(dZ5, A4.T))\n",
        "    db5 = (1/m) * (np.sum(dZ5, axis=1, keepdims=True))\n",
        "\n",
        "    dZ4 = np.dot(W5.T, dZ5) * tanh_derivada(A4)\n",
        "    dW4 = (1/m) * (np.dot(dZ4, A3.T))\n",
        "    db4 = (1/m) * (np.sum(dZ4, axis=1, keepdims=True))\n",
        "\n",
        "    dZ3 = np.dot(W4.T, dZ4) * tanh_derivada(A3)\n",
        "    dW3 = (1/m) * (np.dot(dZ3, A2.T))\n",
        "    db3 = (1/m) * (np.sum(dZ3, axis=1, keepdims=True))\n",
        "\n",
        "    dZ2 = np.dot(W3.T, dZ3) * tanh_derivada(A2)\n",
        "    dW2 = (1/m) * (np.dot(dZ2, A1.T))\n",
        "    db2 = (1/m) * (np.sum(dZ2, axis=1, keepdims=True))\n",
        "\n",
        "    dZ1 = np.dot(W2.T, dZ2) * tanh_derivada(A1)\n",
        "    dW1 = (1/m) * (np.dot(dZ1, X.T))\n",
        "    db1 = (1/m) * (np.sum(dZ1, axis=1, keepdims=True))\n",
        "    \n",
        "    grads = {\"dW1\": dW1, \"db1\": db1, \"dW2\": dW2, \"db2\": db2, \"dW3\": dW3, \"db3\": db3, \"dW4\": dW4, \"db4\": db4, \"dW5\": dW5, \"db5\": db5}\n",
        "    \n",
        "    return grads"
      ],
      "metadata": {
        "id": "4_d6-vQ4_Rc_"
      },
      "execution_count": 31,
      "outputs": []
    },
    {
      "cell_type": "markdown",
      "source": [
        "Actualizar parametros con los gradientes obtenidos\n",
        "\n",
        "$${\\bf{w}}(\\tau) = {\\bf{w}}(\\tau-1) - \\eta\\nabla J({\\bf{w}})$$\n",
        "$${\\bf{b}}(\\tau) = {\\bf{b}}(\\tau-1) - \\eta\\nabla J({\\bf{b}})$$"
      ],
      "metadata": {
        "id": "X-KcFchHOQ8g"
      }
    },
    {
      "cell_type": "code",
      "source": [
        "def actualizar_parametros(parametros, grads, taza_aprendizaje):\n",
        "    \"\"\"\n",
        "    parametros -- diccionario con parametros\n",
        "    grads -- diccionario con gradientes\n",
        "    \n",
        "    Retorna:\n",
        "        parametros -- diccionario con parametros actualizados\n",
        "    \"\"\"\n",
        "\n",
        "    W1, b1 = parametros[\"W1\"], parametros[\"b1\"]\n",
        "    W2, b2 = parametros[\"W2\"], parametros[\"b2\"]\n",
        "    W3, b3 = parametros[\"W3\"], parametros[\"b3\"]\n",
        "    W4, b4 = parametros[\"W4\"], parametros[\"b4\"]\n",
        "    W5, b5 = parametros[\"W5\"], parametros[\"b5\"]\n",
        "    \n",
        "    dW1, db1 = grads[\"dW1\"], grads[\"db1\"]\n",
        "    dW2, db2 = grads[\"dW2\"], grads[\"db2\"]\n",
        "    dW3, db3 = grads[\"dW3\"], grads[\"db3\"]\n",
        "    dW4, db4 = grads[\"dW4\"], grads[\"db4\"]\n",
        "    dW5, db5 = grads[\"dW5\"], grads[\"db5\"]\n",
        "    \n",
        "    # actualizar parametros y bias\n",
        "    W1 = W1 - taza_aprendizaje * dW1\n",
        "    b1 = b1 - taza_aprendizaje * db1\n",
        "    W2 = W2 - taza_aprendizaje * dW2\n",
        "    b2 = b2 - taza_aprendizaje * db2\n",
        "    W3 = W3 - taza_aprendizaje * dW3\n",
        "    b3 = b3 - taza_aprendizaje * db3\n",
        "    W4 = W4 - taza_aprendizaje * dW4\n",
        "    b4 = b4 - taza_aprendizaje * db4\n",
        "    W5 = W5 - taza_aprendizaje * dW5\n",
        "    b5 = b5 - taza_aprendizaje * db5\n",
        "\n",
        "    parametros = {\"W1\": W1, \"b1\": b1, \"W2\": W2, \"b2\": b2, \"W3\": W3, \"b3\": b3, \"W4\": W4, \"b4\": b4, \"W5\": W5, \"b5\": b5}\n",
        "    \n",
        "    return parametros"
      ],
      "metadata": {
        "id": "5i-ik5Llb6D0"
      },
      "execution_count": 32,
      "outputs": []
    },
    {
      "cell_type": "markdown",
      "source": [
        "#### Uniendo las partes"
      ],
      "metadata": {
        "id": "8zEC8qiNquWU"
      }
    },
    {
      "cell_type": "code",
      "source": [
        "def modelo_ann(X, Y, taza_aprendizaje, num_iteraciones=10000, print_costo=False):\n",
        "    \n",
        "    # Inicializar parametros\n",
        "    parametros = inicializar_parametros(neur_x=10, neur_L1=10, neur_L2=12, neur_L3=9, neur_L4=5, neur_y=2)\n",
        "    parametros_2 = copy.deepcopy(parametros)\n",
        "    \n",
        "    # Bucle (gradiente descendente)\n",
        "    for i in range(0, num_iteraciones):\n",
        "        # Forward propagation\n",
        "        A5, cache = forward_propagation(X, parametros)\n",
        "        # Funcion de costo\n",
        "        costo = calcular_coste(A5, Y)\n",
        "        # Backpropagation\n",
        "        grads = backward_propagation(parametros, cache, X, Y)\n",
        "        # Actulizar parametros\n",
        "        parametros = actualizar_parametros(parametros, grads, taza_aprendizaje)\n",
        "        # Imprimir costo\n",
        "        if print_costo and i % 1000 == 0:\n",
        "            print(\"Costo despues de la iteración %i: %f\" %(i, costo))\n",
        "\n",
        "    # Retorna parametros ajustados por el model. Utilizados para predecir la salida\n",
        "    return parametros"
      ],
      "metadata": {
        "id": "5K9wM3jzaQ0z"
      },
      "execution_count": 34,
      "outputs": []
    },
    {
      "cell_type": "code",
      "source": [
        "X_train_array.shape"
      ],
      "metadata": {
        "colab": {
          "base_uri": "https://localhost:8080/"
        },
        "id": "Q19IACSKoBhu",
        "outputId": "a1b0a49f-3955-460f-9d72-92f66f3b50c1"
      },
      "execution_count": 35,
      "outputs": [
        {
          "output_type": "execute_result",
          "data": {
            "text/plain": [
              "(10, 455)"
            ]
          },
          "metadata": {},
          "execution_count": 35
        }
      ]
    },
    {
      "cell_type": "code",
      "source": [
        "Y_train_array.shape"
      ],
      "metadata": {
        "colab": {
          "base_uri": "https://localhost:8080/"
        },
        "id": "MMO4e64yoHD-",
        "outputId": "9c564d43-1520-460b-b835-27d2c5e24bbd"
      },
      "execution_count": 36,
      "outputs": [
        {
          "output_type": "execute_result",
          "data": {
            "text/plain": [
              "(2, 455)"
            ]
          },
          "metadata": {},
          "execution_count": 36
        }
      ]
    },
    {
      "cell_type": "code",
      "source": [
        "parametros_aprendidos = modelo_ann(X_train_array, Y_train_array, taza_aprendizaje=0.75, num_iteraciones=10000, print_costo=True)"
      ],
      "metadata": {
        "colab": {
          "base_uri": "https://localhost:8080/"
        },
        "id": "4oizWwxFaf5d",
        "outputId": "1b8a8801-8de3-4906-c81f-40f5d1ee134c"
      },
      "execution_count": 37,
      "outputs": [
        {
          "output_type": "stream",
          "name": "stdout",
          "text": [
            "Costo despues de la iteración 0: 0.693099\n",
            "Costo despues de la iteración 1000: 0.138525\n",
            "Costo despues de la iteración 2000: 0.117713\n",
            "Costo despues de la iteración 3000: 0.083731\n",
            "Costo despues de la iteración 4000: 0.063378\n",
            "Costo despues de la iteración 5000: 0.066235\n",
            "Costo despues de la iteración 6000: 0.057085\n",
            "Costo despues de la iteración 7000: 0.051383\n",
            "Costo despues de la iteración 8000: 0.049132\n",
            "Costo despues de la iteración 9000: 0.044627\n"
          ]
        }
      ]
    },
    {
      "cell_type": "markdown",
      "source": [
        "#### Función Predict"
      ],
      "metadata": {
        "id": "iyFo1-D0rW1L"
      }
    },
    {
      "cell_type": "code",
      "source": [
        "def predict(parametros, X):\n",
        "    \"\"\" \n",
        "    parametros -- diccionario de parametros_aprendidos\n",
        "    X -- datos de entrada\n",
        "    \n",
        "    Retorna:\n",
        "        predicciones -- matriz de predicciones (fila 1 = benigno, fila2 = maligno)\n",
        "    \"\"\"\n",
        "    \n",
        "    A5, cache = forward_propagation(X, parametros)\n",
        "    soft_A5 = softmax(A5)\n",
        "    predicciones = np.argmax(soft_A5, axis=0)\n",
        "    predicciones = np.eye(2)[predicciones].T\n",
        "    \n",
        "    return predicciones"
      ],
      "metadata": {
        "id": "qro0rdcnrD8X"
      },
      "execution_count": 38,
      "outputs": []
    },
    {
      "cell_type": "code",
      "source": [
        "predicciones = predict(parametros_aprendidos, X_train_array)"
      ],
      "metadata": {
        "id": "KUvZyUiosOTx"
      },
      "execution_count": 39,
      "outputs": []
    },
    {
      "cell_type": "markdown",
      "source": [
        "#### Métricas de desempeño"
      ],
      "metadata": {
        "id": "U0wA1axErZat"
      }
    },
    {
      "cell_type": "code",
      "source": [
        "def accuracy(Y, predicciones):\n",
        "    \"\"\"\n",
        "    Y -- matriz de etiquetas reales de tamaño (2, m)\n",
        "    predicciones -- matriz de etiquetas predichas de tamaño (2, m)\n",
        "    \n",
        "    Retorna:\n",
        "        accuracy -- porcentaje de predicciones correctas\n",
        "    \"\"\"\n",
        "    \n",
        "    m = Y.shape[1]\n",
        "    predicciones_max = np.argmax(predicciones, axis=0)\n",
        "    Y_max = np.argmax(Y, axis=0)\n",
        "    accuracy = np.sum(predicciones_max == Y_max) / m\n",
        "    \n",
        "    return accuracy"
      ],
      "metadata": {
        "id": "T8iEOcxauVjP"
      },
      "execution_count": 40,
      "outputs": []
    },
    {
      "cell_type": "code",
      "source": [
        "# Accuracy en entrenamiento\n",
        "accuracy(Y_train_array, predicciones)"
      ],
      "metadata": {
        "colab": {
          "base_uri": "https://localhost:8080/"
        },
        "id": "PnBDiWUovqbg",
        "outputId": "c4bbb446-bce9-4df4-c0ee-3a518010f8df"
      },
      "execution_count": 41,
      "outputs": [
        {
          "output_type": "execute_result",
          "data": {
            "text/plain": [
              "0.9648351648351648"
            ]
          },
          "metadata": {},
          "execution_count": 41
        }
      ]
    },
    {
      "cell_type": "markdown",
      "source": [
        "Procesar conjunto de datos Test"
      ],
      "metadata": {
        "id": "CZB-7ViksikK"
      }
    },
    {
      "cell_type": "code",
      "source": [
        "dataset_test = pd.read_csv('https://raw.githubusercontent.com/viowiy/redes_neuronales/main/datasets/set2_test.csv', sep=\",\", engine='python', names=columns)"
      ],
      "metadata": {
        "id": "XkqIYoXPsosc"
      },
      "execution_count": 42,
      "outputs": []
    },
    {
      "cell_type": "code",
      "source": [
        "X_test_pre = dataset_test.iloc[:, 2:]\n",
        "X_test_pre.head()"
      ],
      "metadata": {
        "colab": {
          "base_uri": "https://localhost:8080/",
          "height": 206
        },
        "id": "8cuxdiH6tLhC",
        "outputId": "101d4f7f-f972-48a0-8184-ba759459eef8"
      },
      "execution_count": 43,
      "outputs": [
        {
          "output_type": "execute_result",
          "data": {
            "text/plain": [
              "   radio  textura  perimetro    area  suavidad  compacidad  concavidad  \\\n",
              "0  14.60    23.29      93.97   664.7   0.08682     0.06636      0.0839   \n",
              "1  19.55    23.21     128.90  1174.0   0.10100     0.13180      0.1856   \n",
              "2  15.49    19.97     102.40   744.7   0.11600     0.15620      0.1891   \n",
              "3  21.61    22.28     144.40  1407.0   0.11670     0.20870      0.2810   \n",
              "4  17.91    21.02     124.40   994.0   0.12300     0.25760      0.3189   \n",
              "\n",
              "   puntos_concavos  simetria  dimension_fractal  \n",
              "0          0.05271    0.1627            0.05416  \n",
              "1          0.10210    0.1989            0.05884  \n",
              "2          0.09113    0.1929            0.06744  \n",
              "3          0.15620    0.2162            0.06606  \n",
              "4          0.11980    0.2113            0.07115  "
            ],
            "text/html": [
              "\n",
              "  <div id=\"df-99a93213-ab8e-4e6d-a8fc-ed3513bed467\">\n",
              "    <div class=\"colab-df-container\">\n",
              "      <div>\n",
              "<style scoped>\n",
              "    .dataframe tbody tr th:only-of-type {\n",
              "        vertical-align: middle;\n",
              "    }\n",
              "\n",
              "    .dataframe tbody tr th {\n",
              "        vertical-align: top;\n",
              "    }\n",
              "\n",
              "    .dataframe thead th {\n",
              "        text-align: right;\n",
              "    }\n",
              "</style>\n",
              "<table border=\"1\" class=\"dataframe\">\n",
              "  <thead>\n",
              "    <tr style=\"text-align: right;\">\n",
              "      <th></th>\n",
              "      <th>radio</th>\n",
              "      <th>textura</th>\n",
              "      <th>perimetro</th>\n",
              "      <th>area</th>\n",
              "      <th>suavidad</th>\n",
              "      <th>compacidad</th>\n",
              "      <th>concavidad</th>\n",
              "      <th>puntos_concavos</th>\n",
              "      <th>simetria</th>\n",
              "      <th>dimension_fractal</th>\n",
              "    </tr>\n",
              "  </thead>\n",
              "  <tbody>\n",
              "    <tr>\n",
              "      <th>0</th>\n",
              "      <td>14.60</td>\n",
              "      <td>23.29</td>\n",
              "      <td>93.97</td>\n",
              "      <td>664.7</td>\n",
              "      <td>0.08682</td>\n",
              "      <td>0.06636</td>\n",
              "      <td>0.0839</td>\n",
              "      <td>0.05271</td>\n",
              "      <td>0.1627</td>\n",
              "      <td>0.05416</td>\n",
              "    </tr>\n",
              "    <tr>\n",
              "      <th>1</th>\n",
              "      <td>19.55</td>\n",
              "      <td>23.21</td>\n",
              "      <td>128.90</td>\n",
              "      <td>1174.0</td>\n",
              "      <td>0.10100</td>\n",
              "      <td>0.13180</td>\n",
              "      <td>0.1856</td>\n",
              "      <td>0.10210</td>\n",
              "      <td>0.1989</td>\n",
              "      <td>0.05884</td>\n",
              "    </tr>\n",
              "    <tr>\n",
              "      <th>2</th>\n",
              "      <td>15.49</td>\n",
              "      <td>19.97</td>\n",
              "      <td>102.40</td>\n",
              "      <td>744.7</td>\n",
              "      <td>0.11600</td>\n",
              "      <td>0.15620</td>\n",
              "      <td>0.1891</td>\n",
              "      <td>0.09113</td>\n",
              "      <td>0.1929</td>\n",
              "      <td>0.06744</td>\n",
              "    </tr>\n",
              "    <tr>\n",
              "      <th>3</th>\n",
              "      <td>21.61</td>\n",
              "      <td>22.28</td>\n",
              "      <td>144.40</td>\n",
              "      <td>1407.0</td>\n",
              "      <td>0.11670</td>\n",
              "      <td>0.20870</td>\n",
              "      <td>0.2810</td>\n",
              "      <td>0.15620</td>\n",
              "      <td>0.2162</td>\n",
              "      <td>0.06606</td>\n",
              "    </tr>\n",
              "    <tr>\n",
              "      <th>4</th>\n",
              "      <td>17.91</td>\n",
              "      <td>21.02</td>\n",
              "      <td>124.40</td>\n",
              "      <td>994.0</td>\n",
              "      <td>0.12300</td>\n",
              "      <td>0.25760</td>\n",
              "      <td>0.3189</td>\n",
              "      <td>0.11980</td>\n",
              "      <td>0.2113</td>\n",
              "      <td>0.07115</td>\n",
              "    </tr>\n",
              "  </tbody>\n",
              "</table>\n",
              "</div>\n",
              "      <button class=\"colab-df-convert\" onclick=\"convertToInteractive('df-99a93213-ab8e-4e6d-a8fc-ed3513bed467')\"\n",
              "              title=\"Convert this dataframe to an interactive table.\"\n",
              "              style=\"display:none;\">\n",
              "        \n",
              "  <svg xmlns=\"http://www.w3.org/2000/svg\" height=\"24px\"viewBox=\"0 0 24 24\"\n",
              "       width=\"24px\">\n",
              "    <path d=\"M0 0h24v24H0V0z\" fill=\"none\"/>\n",
              "    <path d=\"M18.56 5.44l.94 2.06.94-2.06 2.06-.94-2.06-.94-.94-2.06-.94 2.06-2.06.94zm-11 1L8.5 8.5l.94-2.06 2.06-.94-2.06-.94L8.5 2.5l-.94 2.06-2.06.94zm10 10l.94 2.06.94-2.06 2.06-.94-2.06-.94-.94-2.06-.94 2.06-2.06.94z\"/><path d=\"M17.41 7.96l-1.37-1.37c-.4-.4-.92-.59-1.43-.59-.52 0-1.04.2-1.43.59L10.3 9.45l-7.72 7.72c-.78.78-.78 2.05 0 2.83L4 21.41c.39.39.9.59 1.41.59.51 0 1.02-.2 1.41-.59l7.78-7.78 2.81-2.81c.8-.78.8-2.07 0-2.86zM5.41 20L4 18.59l7.72-7.72 1.47 1.35L5.41 20z\"/>\n",
              "  </svg>\n",
              "      </button>\n",
              "      \n",
              "  <style>\n",
              "    .colab-df-container {\n",
              "      display:flex;\n",
              "      flex-wrap:wrap;\n",
              "      gap: 12px;\n",
              "    }\n",
              "\n",
              "    .colab-df-convert {\n",
              "      background-color: #E8F0FE;\n",
              "      border: none;\n",
              "      border-radius: 50%;\n",
              "      cursor: pointer;\n",
              "      display: none;\n",
              "      fill: #1967D2;\n",
              "      height: 32px;\n",
              "      padding: 0 0 0 0;\n",
              "      width: 32px;\n",
              "    }\n",
              "\n",
              "    .colab-df-convert:hover {\n",
              "      background-color: #E2EBFA;\n",
              "      box-shadow: 0px 1px 2px rgba(60, 64, 67, 0.3), 0px 1px 3px 1px rgba(60, 64, 67, 0.15);\n",
              "      fill: #174EA6;\n",
              "    }\n",
              "\n",
              "    [theme=dark] .colab-df-convert {\n",
              "      background-color: #3B4455;\n",
              "      fill: #D2E3FC;\n",
              "    }\n",
              "\n",
              "    [theme=dark] .colab-df-convert:hover {\n",
              "      background-color: #434B5C;\n",
              "      box-shadow: 0px 1px 3px 1px rgba(0, 0, 0, 0.15);\n",
              "      filter: drop-shadow(0px 1px 2px rgba(0, 0, 0, 0.3));\n",
              "      fill: #FFFFFF;\n",
              "    }\n",
              "  </style>\n",
              "\n",
              "      <script>\n",
              "        const buttonEl =\n",
              "          document.querySelector('#df-99a93213-ab8e-4e6d-a8fc-ed3513bed467 button.colab-df-convert');\n",
              "        buttonEl.style.display =\n",
              "          google.colab.kernel.accessAllowed ? 'block' : 'none';\n",
              "\n",
              "        async function convertToInteractive(key) {\n",
              "          const element = document.querySelector('#df-99a93213-ab8e-4e6d-a8fc-ed3513bed467');\n",
              "          const dataTable =\n",
              "            await google.colab.kernel.invokeFunction('convertToInteractive',\n",
              "                                                     [key], {});\n",
              "          if (!dataTable) return;\n",
              "\n",
              "          const docLinkHtml = 'Like what you see? Visit the ' +\n",
              "            '<a target=\"_blank\" href=https://colab.research.google.com/notebooks/data_table.ipynb>data table notebook</a>'\n",
              "            + ' to learn more about interactive tables.';\n",
              "          element.innerHTML = '';\n",
              "          dataTable['output_type'] = 'display_data';\n",
              "          await google.colab.output.renderOutput(dataTable, element);\n",
              "          const docLink = document.createElement('div');\n",
              "          docLink.innerHTML = docLinkHtml;\n",
              "          element.appendChild(docLink);\n",
              "        }\n",
              "      </script>\n",
              "    </div>\n",
              "  </div>\n",
              "  "
            ]
          },
          "metadata": {},
          "execution_count": 43
        }
      ]
    },
    {
      "cell_type": "code",
      "source": [
        "X_test_normalizado = X_test_pre.copy(deep=True)\n",
        "\n",
        "for col in X_test_normalizado.columns:\n",
        "    min = X_test_normalizado[col].min()\n",
        "    max = X_test_normalizado[col].max()\n",
        "    X_test_normalizado[col] = (X_test_normalizado[col] - min) / (max - min)"
      ],
      "metadata": {
        "id": "4aeEFguTtUEe"
      },
      "execution_count": 44,
      "outputs": []
    },
    {
      "cell_type": "code",
      "source": [
        "X_test_normalizado.head()"
      ],
      "metadata": {
        "colab": {
          "base_uri": "https://localhost:8080/",
          "height": 206
        },
        "id": "vTMOAhcwtkza",
        "outputId": "c593101c-3aa9-4265-af98-e238100e0625"
      },
      "execution_count": 45,
      "outputs": [
        {
          "output_type": "execute_result",
          "data": {
            "text/plain": [
              "      radio   textura  perimetro      area  suavidad  compacidad  concavidad  \\\n",
              "0  0.350195  0.620993   0.331343  0.212091  0.308658    0.127496    0.230812   \n",
              "1  0.601095  0.616856   0.582674  0.430619  0.436671    0.398559    0.510591   \n",
              "2  0.395306  0.449328   0.391999  0.246417  0.572086    0.499627    0.520220   \n",
              "3  0.705510  0.568769   0.694201  0.530593  0.578406    0.717091    0.773040   \n",
              "4  0.517968  0.503619   0.550295  0.353385  0.635280    0.919642    0.877304   \n",
              "\n",
              "   puntos_concavos  simetria  dimension_fractal  \n",
              "0         0.312078  0.424084           0.039935  \n",
              "1         0.604500  0.694839           0.147969  \n",
              "2         0.539550  0.649963           0.346491  \n",
              "3         0.924808  0.824233           0.314635  \n",
              "4         0.709295  0.787584           0.432133  "
            ],
            "text/html": [
              "\n",
              "  <div id=\"df-3fd40a4b-a21e-4230-acd8-30492b117fa8\">\n",
              "    <div class=\"colab-df-container\">\n",
              "      <div>\n",
              "<style scoped>\n",
              "    .dataframe tbody tr th:only-of-type {\n",
              "        vertical-align: middle;\n",
              "    }\n",
              "\n",
              "    .dataframe tbody tr th {\n",
              "        vertical-align: top;\n",
              "    }\n",
              "\n",
              "    .dataframe thead th {\n",
              "        text-align: right;\n",
              "    }\n",
              "</style>\n",
              "<table border=\"1\" class=\"dataframe\">\n",
              "  <thead>\n",
              "    <tr style=\"text-align: right;\">\n",
              "      <th></th>\n",
              "      <th>radio</th>\n",
              "      <th>textura</th>\n",
              "      <th>perimetro</th>\n",
              "      <th>area</th>\n",
              "      <th>suavidad</th>\n",
              "      <th>compacidad</th>\n",
              "      <th>concavidad</th>\n",
              "      <th>puntos_concavos</th>\n",
              "      <th>simetria</th>\n",
              "      <th>dimension_fractal</th>\n",
              "    </tr>\n",
              "  </thead>\n",
              "  <tbody>\n",
              "    <tr>\n",
              "      <th>0</th>\n",
              "      <td>0.350195</td>\n",
              "      <td>0.620993</td>\n",
              "      <td>0.331343</td>\n",
              "      <td>0.212091</td>\n",
              "      <td>0.308658</td>\n",
              "      <td>0.127496</td>\n",
              "      <td>0.230812</td>\n",
              "      <td>0.312078</td>\n",
              "      <td>0.424084</td>\n",
              "      <td>0.039935</td>\n",
              "    </tr>\n",
              "    <tr>\n",
              "      <th>1</th>\n",
              "      <td>0.601095</td>\n",
              "      <td>0.616856</td>\n",
              "      <td>0.582674</td>\n",
              "      <td>0.430619</td>\n",
              "      <td>0.436671</td>\n",
              "      <td>0.398559</td>\n",
              "      <td>0.510591</td>\n",
              "      <td>0.604500</td>\n",
              "      <td>0.694839</td>\n",
              "      <td>0.147969</td>\n",
              "    </tr>\n",
              "    <tr>\n",
              "      <th>2</th>\n",
              "      <td>0.395306</td>\n",
              "      <td>0.449328</td>\n",
              "      <td>0.391999</td>\n",
              "      <td>0.246417</td>\n",
              "      <td>0.572086</td>\n",
              "      <td>0.499627</td>\n",
              "      <td>0.520220</td>\n",
              "      <td>0.539550</td>\n",
              "      <td>0.649963</td>\n",
              "      <td>0.346491</td>\n",
              "    </tr>\n",
              "    <tr>\n",
              "      <th>3</th>\n",
              "      <td>0.705510</td>\n",
              "      <td>0.568769</td>\n",
              "      <td>0.694201</td>\n",
              "      <td>0.530593</td>\n",
              "      <td>0.578406</td>\n",
              "      <td>0.717091</td>\n",
              "      <td>0.773040</td>\n",
              "      <td>0.924808</td>\n",
              "      <td>0.824233</td>\n",
              "      <td>0.314635</td>\n",
              "    </tr>\n",
              "    <tr>\n",
              "      <th>4</th>\n",
              "      <td>0.517968</td>\n",
              "      <td>0.503619</td>\n",
              "      <td>0.550295</td>\n",
              "      <td>0.353385</td>\n",
              "      <td>0.635280</td>\n",
              "      <td>0.919642</td>\n",
              "      <td>0.877304</td>\n",
              "      <td>0.709295</td>\n",
              "      <td>0.787584</td>\n",
              "      <td>0.432133</td>\n",
              "    </tr>\n",
              "  </tbody>\n",
              "</table>\n",
              "</div>\n",
              "      <button class=\"colab-df-convert\" onclick=\"convertToInteractive('df-3fd40a4b-a21e-4230-acd8-30492b117fa8')\"\n",
              "              title=\"Convert this dataframe to an interactive table.\"\n",
              "              style=\"display:none;\">\n",
              "        \n",
              "  <svg xmlns=\"http://www.w3.org/2000/svg\" height=\"24px\"viewBox=\"0 0 24 24\"\n",
              "       width=\"24px\">\n",
              "    <path d=\"M0 0h24v24H0V0z\" fill=\"none\"/>\n",
              "    <path d=\"M18.56 5.44l.94 2.06.94-2.06 2.06-.94-2.06-.94-.94-2.06-.94 2.06-2.06.94zm-11 1L8.5 8.5l.94-2.06 2.06-.94-2.06-.94L8.5 2.5l-.94 2.06-2.06.94zm10 10l.94 2.06.94-2.06 2.06-.94-2.06-.94-.94-2.06-.94 2.06-2.06.94z\"/><path d=\"M17.41 7.96l-1.37-1.37c-.4-.4-.92-.59-1.43-.59-.52 0-1.04.2-1.43.59L10.3 9.45l-7.72 7.72c-.78.78-.78 2.05 0 2.83L4 21.41c.39.39.9.59 1.41.59.51 0 1.02-.2 1.41-.59l7.78-7.78 2.81-2.81c.8-.78.8-2.07 0-2.86zM5.41 20L4 18.59l7.72-7.72 1.47 1.35L5.41 20z\"/>\n",
              "  </svg>\n",
              "      </button>\n",
              "      \n",
              "  <style>\n",
              "    .colab-df-container {\n",
              "      display:flex;\n",
              "      flex-wrap:wrap;\n",
              "      gap: 12px;\n",
              "    }\n",
              "\n",
              "    .colab-df-convert {\n",
              "      background-color: #E8F0FE;\n",
              "      border: none;\n",
              "      border-radius: 50%;\n",
              "      cursor: pointer;\n",
              "      display: none;\n",
              "      fill: #1967D2;\n",
              "      height: 32px;\n",
              "      padding: 0 0 0 0;\n",
              "      width: 32px;\n",
              "    }\n",
              "\n",
              "    .colab-df-convert:hover {\n",
              "      background-color: #E2EBFA;\n",
              "      box-shadow: 0px 1px 2px rgba(60, 64, 67, 0.3), 0px 1px 3px 1px rgba(60, 64, 67, 0.15);\n",
              "      fill: #174EA6;\n",
              "    }\n",
              "\n",
              "    [theme=dark] .colab-df-convert {\n",
              "      background-color: #3B4455;\n",
              "      fill: #D2E3FC;\n",
              "    }\n",
              "\n",
              "    [theme=dark] .colab-df-convert:hover {\n",
              "      background-color: #434B5C;\n",
              "      box-shadow: 0px 1px 3px 1px rgba(0, 0, 0, 0.15);\n",
              "      filter: drop-shadow(0px 1px 2px rgba(0, 0, 0, 0.3));\n",
              "      fill: #FFFFFF;\n",
              "    }\n",
              "  </style>\n",
              "\n",
              "      <script>\n",
              "        const buttonEl =\n",
              "          document.querySelector('#df-3fd40a4b-a21e-4230-acd8-30492b117fa8 button.colab-df-convert');\n",
              "        buttonEl.style.display =\n",
              "          google.colab.kernel.accessAllowed ? 'block' : 'none';\n",
              "\n",
              "        async function convertToInteractive(key) {\n",
              "          const element = document.querySelector('#df-3fd40a4b-a21e-4230-acd8-30492b117fa8');\n",
              "          const dataTable =\n",
              "            await google.colab.kernel.invokeFunction('convertToInteractive',\n",
              "                                                     [key], {});\n",
              "          if (!dataTable) return;\n",
              "\n",
              "          const docLinkHtml = 'Like what you see? Visit the ' +\n",
              "            '<a target=\"_blank\" href=https://colab.research.google.com/notebooks/data_table.ipynb>data table notebook</a>'\n",
              "            + ' to learn more about interactive tables.';\n",
              "          element.innerHTML = '';\n",
              "          dataTable['output_type'] = 'display_data';\n",
              "          await google.colab.output.renderOutput(dataTable, element);\n",
              "          const docLink = document.createElement('div');\n",
              "          docLink.innerHTML = docLinkHtml;\n",
              "          element.appendChild(docLink);\n",
              "        }\n",
              "      </script>\n",
              "    </div>\n",
              "  </div>\n",
              "  "
            ]
          },
          "metadata": {},
          "execution_count": 45
        }
      ]
    },
    {
      "cell_type": "code",
      "source": [
        "X_test_array = X_test_normalizado.to_numpy().T\n",
        "X_test_array.shape"
      ],
      "metadata": {
        "colab": {
          "base_uri": "https://localhost:8080/"
        },
        "id": "L0_t4x5MtomC",
        "outputId": "0a2adb1d-3c7e-480d-a920-47ef15e8adf1"
      },
      "execution_count": 46,
      "outputs": [
        {
          "output_type": "execute_result",
          "data": {
            "text/plain": [
              "(10, 114)"
            ]
          },
          "metadata": {},
          "execution_count": 46
        }
      ]
    },
    {
      "cell_type": "code",
      "source": [
        "Y_test = dataset_test.iloc[:, 1]\n",
        "\n",
        "Y_test_array_pre = Y_test.to_numpy()\n",
        "\n",
        "Y_test_array = np.eye(2)[Y_test_array_pre]\n",
        "\n",
        "Y_test_array = Y_test_array.T\n",
        "Y_test_array.shape"
      ],
      "metadata": {
        "colab": {
          "base_uri": "https://localhost:8080/"
        },
        "id": "iaQHNXW1t1sa",
        "outputId": "e5ab5133-2710-4931-83a4-ce4ca8d4056a"
      },
      "execution_count": 47,
      "outputs": [
        {
          "output_type": "execute_result",
          "data": {
            "text/plain": [
              "(2, 114)"
            ]
          },
          "metadata": {},
          "execution_count": 47
        }
      ]
    },
    {
      "cell_type": "code",
      "source": [
        "predicciones_test = predict(parametros_aprendidos, X_test_array)"
      ],
      "metadata": {
        "id": "Mtz93ZlPuMdK"
      },
      "execution_count": 48,
      "outputs": []
    },
    {
      "cell_type": "code",
      "source": [
        "accuracy(Y_test_array, predicciones_test)"
      ],
      "metadata": {
        "colab": {
          "base_uri": "https://localhost:8080/"
        },
        "id": "qci-pe3kvsA8",
        "outputId": "8dbeafdc-edd7-4c16-fea8-dc2d9ada30c8"
      },
      "execution_count": 49,
      "outputs": [
        {
          "output_type": "execute_result",
          "data": {
            "text/plain": [
              "0.9210526315789473"
            ]
          },
          "metadata": {},
          "execution_count": 49
        }
      ]
    },
    {
      "cell_type": "markdown",
      "source": [
        "#### Matriz de Confusión, Recall, F1-Score"
      ],
      "metadata": {
        "id": "7cQ0LJAWtH8y"
      }
    },
    {
      "cell_type": "code",
      "source": [
        "cm = confusion_matrix(Y_test_array.flatten(), predicciones_test.flatten())\n",
        "cm = cm/np.sum(cm,axis=0)\n",
        "\n",
        "cmap = plt.cm.Blues\n",
        "tick_marks = np.arange(2)\n",
        "fig, ax = plt.subplots(figsize=(4,4))\n",
        "im = ax.imshow(cm, interpolation='nearest', cmap=cmap)\n",
        "\n",
        "for i in range(cm.shape[0]):\n",
        "    for j in range(cm.shape[1]):\n",
        "        text = ax.text(j, i, np.around(cm[i, j], decimals=4), ha=\"center\", va=\"center\")\n",
        "\n",
        "fig.colorbar(im)\n",
        "plt.xticks(tick_marks, rotation=45)\n",
        "plt.yticks(tick_marks)\n",
        "plt.show()"
      ],
      "metadata": {
        "colab": {
          "base_uri": "https://localhost:8080/",
          "height": 345
        },
        "id": "Pi1BktmVrgEK",
        "outputId": "5e60457d-4c75-484a-de4b-fae6c0f550f8"
      },
      "execution_count": 50,
      "outputs": [
        {
          "output_type": "display_data",
          "data": {
            "text/plain": [
              "<Figure size 400x400 with 2 Axes>"
            ],
            "image/png": "[encoded data removed]"
          },
          "metadata": {}
        }
      ]
    },
    {
      "cell_type": "code",
      "source": [
        "recall = recall_score(Y_test_array.flatten(), predicciones_test.flatten(), average='binary')\n",
        "recall"
      ],
      "metadata": {
        "colab": {
          "base_uri": "https://localhost:8080/"
        },
        "id": "Ri5ZXwXCwI5d",
        "outputId": "090109e7-2c74-4849-d215-a034f890c6cf"
      },
      "execution_count": 51,
      "outputs": [
        {
          "output_type": "execute_result",
          "data": {
            "text/plain": [
              "0.9210526315789473"
            ]
          },
          "metadata": {},
          "execution_count": 51
        }
      ]
    },
    {
      "cell_type": "code",
      "source": [
        "f1 = f1_score(Y_test_array.flatten(), predicciones_test.flatten(), average='binary')\n",
        "f1"
      ],
      "metadata": {
        "colab": {
          "base_uri": "https://localhost:8080/"
        },
        "id": "HGOdCnX1xnZ0",
        "outputId": "06e3197a-825f-4ed9-99d6-66f7b9b80911"
      },
      "execution_count": 52,
      "outputs": [
        {
          "output_type": "execute_result",
          "data": {
            "text/plain": [
              "0.9210526315789473"
            ]
          },
          "metadata": {},
          "execution_count": 52
        }
      ]
    },
    {
      "cell_type": "markdown",
      "source": [
        "#### Comprobaciones con Tensorflow"
      ],
      "metadata": {
        "id": "OIO9PYrp7sKs"
      }
    },
    {
      "cell_type": "code",
      "source": [
        "from tensorflow.keras.models import Sequential\n",
        "from tensorflow.keras import optimizers\n",
        "from tensorflow.keras.layers import Dense, Activation"
      ],
      "metadata": {
        "id": "WB-_Zuad-8xj"
      },
      "execution_count": 53,
      "outputs": []
    },
    {
      "cell_type": "code",
      "source": [
        "X_train_tf = X_train_normalizado.to_numpy()\n",
        "X_train_tf.shape"
      ],
      "metadata": {
        "colab": {
          "base_uri": "https://localhost:8080/"
        },
        "id": "BLC_oHo_Bb1j",
        "outputId": "f1422b2d-8654-481e-897e-db3a03edc35b"
      },
      "execution_count": 54,
      "outputs": [
        {
          "output_type": "execute_result",
          "data": {
            "text/plain": [
              "(455, 10)"
            ]
          },
          "metadata": {},
          "execution_count": 54
        }
      ]
    },
    {
      "cell_type": "code",
      "source": [
        "Y_train_array_pre = Y_train.to_numpy()"
      ],
      "metadata": {
        "id": "SpaSZDXnBjtj"
      },
      "execution_count": 55,
      "outputs": []
    },
    {
      "cell_type": "code",
      "source": [
        "Y_train_tf = np.eye(2)[Y_train_array_pre]"
      ],
      "metadata": {
        "id": "DG9_2arnDieD"
      },
      "execution_count": 56,
      "outputs": []
    },
    {
      "cell_type": "code",
      "source": [
        "Y_train_tf.shape"
      ],
      "metadata": {
        "colab": {
          "base_uri": "https://localhost:8080/"
        },
        "id": "fYU1vq_qD6Rs",
        "outputId": "4294f069-ea1e-461c-8a17-a91b650c4cb8"
      },
      "execution_count": 57,
      "outputs": [
        {
          "output_type": "execute_result",
          "data": {
            "text/plain": [
              "(455, 2)"
            ]
          },
          "metadata": {},
          "execution_count": 57
        }
      ]
    },
    {
      "cell_type": "code",
      "source": [
        "model_2 = Sequential([\n",
        "    Dense(10, input_shape=(10,)),\n",
        "    Activation('tanh'),\n",
        "    Dense(12),\n",
        "    Activation('tanh'),\n",
        "    Dense(9),\n",
        "    Activation('tanh'),\n",
        "    Dense(5),\n",
        "    Activation('tanh'),\n",
        "    Dense(2),\n",
        "    Activation('softmax'),\n",
        "])"
      ],
      "metadata": {
        "id": "RS778CaLAUNk"
      },
      "execution_count": 58,
      "outputs": []
    },
    {
      "cell_type": "code",
      "source": [
        "model_2.summary()"
      ],
      "metadata": {
        "id": "7zJulPAUCMWs"
      },
      "execution_count": null,
      "outputs": []
    },
    {
      "cell_type": "code",
      "source": [
        "sgd2 = optimizers.SGD(learning_rate=1.01)\n",
        "model_2.compile(loss='categorical_crossentropy', optimizer=sgd2)"
      ],
      "metadata": {
        "id": "4xc08jwpCNz7"
      },
      "execution_count": 60,
      "outputs": []
    },
    {
      "cell_type": "code",
      "source": [
        "model_2.fit(X_train_tf, Y_train_tf, epochs=100, batch_size=16, verbose=2)"
      ],
      "metadata": {
        "colab": {
          "base_uri": "https://localhost:8080/"
        },
        "id": "wIezx5KGDbLz",
        "outputId": "4fcd534c-96bd-44f3-fa3d-2724141a5c17"
      },
      "execution_count": 61,
      "outputs": [
        {
          "output_type": "stream",
          "name": "stdout",
          "text": [
            "Epoch 1/100\n",
            "29/29 - 1s - loss: 0.6958 - 1s/epoch - 48ms/step\n",
            "Epoch 2/100\n",
            "29/29 - 0s - loss: 0.6490 - 213ms/epoch - 7ms/step\n",
            "Epoch 3/100\n",
            "29/29 - 0s - loss: 0.4335 - 110ms/epoch - 4ms/step\n",
            "Epoch 4/100\n",
            "29/29 - 0s - loss: 0.3656 - 121ms/epoch - 4ms/step\n",
            "Epoch 5/100\n",
            "29/29 - 0s - loss: 0.2706 - 63ms/epoch - 2ms/step\n",
            "Epoch 6/100\n",
            "29/29 - 0s - loss: 0.2718 - 69ms/epoch - 2ms/step\n",
            "Epoch 7/100\n",
            "29/29 - 0s - loss: 0.3456 - 130ms/epoch - 4ms/step\n",
            "Epoch 8/100\n",
            "29/29 - 0s - loss: 0.3507 - 105ms/epoch - 4ms/step\n",
            "Epoch 9/100\n",
            "29/29 - 0s - loss: 0.2529 - 80ms/epoch - 3ms/step\n",
            "Epoch 10/100\n",
            "29/29 - 0s - loss: 0.2396 - 51ms/epoch - 2ms/step\n",
            "Epoch 11/100\n",
            "29/29 - 0s - loss: 0.2814 - 40ms/epoch - 1ms/step\n",
            "Epoch 12/100\n",
            "29/29 - 0s - loss: 0.2646 - 47ms/epoch - 2ms/step\n",
            "Epoch 13/100\n",
            "29/29 - 0s - loss: 0.1985 - 48ms/epoch - 2ms/step\n",
            "Epoch 14/100\n",
            "29/29 - 0s - loss: 0.2024 - 41ms/epoch - 1ms/step\n",
            "Epoch 15/100\n",
            "29/29 - 0s - loss: 0.1845 - 44ms/epoch - 2ms/step\n",
            "Epoch 16/100\n",
            "29/29 - 0s - loss: 0.2085 - 43ms/epoch - 1ms/step\n",
            "Epoch 17/100\n",
            "29/29 - 0s - loss: 0.1979 - 40ms/epoch - 1ms/step\n",
            "Epoch 18/100\n",
            "29/29 - 0s - loss: 0.2457 - 43ms/epoch - 1ms/step\n",
            "Epoch 19/100\n",
            "29/29 - 0s - loss: 0.1782 - 45ms/epoch - 2ms/step\n",
            "Epoch 20/100\n",
            "29/29 - 0s - loss: 0.2140 - 51ms/epoch - 2ms/step\n",
            "Epoch 21/100\n",
            "29/29 - 0s - loss: 0.2184 - 43ms/epoch - 1ms/step\n",
            "Epoch 22/100\n",
            "29/29 - 0s - loss: 0.1987 - 45ms/epoch - 2ms/step\n",
            "Epoch 23/100\n",
            "29/29 - 0s - loss: 0.2132 - 41ms/epoch - 1ms/step\n",
            "Epoch 24/100\n",
            "29/29 - 0s - loss: 0.1729 - 49ms/epoch - 2ms/step\n",
            "Epoch 25/100\n",
            "29/29 - 0s - loss: 0.2117 - 40ms/epoch - 1ms/step\n",
            "Epoch 26/100\n",
            "29/29 - 0s - loss: 0.2139 - 45ms/epoch - 2ms/step\n",
            "Epoch 27/100\n",
            "29/29 - 0s - loss: 0.1685 - 44ms/epoch - 2ms/step\n",
            "Epoch 28/100\n",
            "29/29 - 0s - loss: 0.2291 - 50ms/epoch - 2ms/step\n",
            "Epoch 29/100\n",
            "29/29 - 0s - loss: 0.2058 - 40ms/epoch - 1ms/step\n",
            "Epoch 30/100\n",
            "29/29 - 0s - loss: 0.1810 - 44ms/epoch - 2ms/step\n",
            "Epoch 31/100\n",
            "29/29 - 0s - loss: 0.2713 - 51ms/epoch - 2ms/step\n",
            "Epoch 32/100\n",
            "29/29 - 0s - loss: 0.2005 - 51ms/epoch - 2ms/step\n",
            "Epoch 33/100\n",
            "29/29 - 0s - loss: 0.2033 - 45ms/epoch - 2ms/step\n",
            "Epoch 34/100\n",
            "29/29 - 0s - loss: 0.1753 - 39ms/epoch - 1ms/step\n",
            "Epoch 35/100\n",
            "29/29 - 0s - loss: 0.1701 - 41ms/epoch - 1ms/step\n",
            "Epoch 36/100\n",
            "29/29 - 0s - loss: 0.1866 - 50ms/epoch - 2ms/step\n",
            "Epoch 37/100\n",
            "29/29 - 0s - loss: 0.2014 - 39ms/epoch - 1ms/step\n",
            "Epoch 38/100\n",
            "29/29 - 0s - loss: 0.1748 - 42ms/epoch - 1ms/step\n",
            "Epoch 39/100\n",
            "29/29 - 0s - loss: 0.2071 - 44ms/epoch - 2ms/step\n",
            "Epoch 40/100\n",
            "29/29 - 0s - loss: 0.1894 - 41ms/epoch - 1ms/step\n",
            "Epoch 41/100\n",
            "29/29 - 0s - loss: 0.2098 - 48ms/epoch - 2ms/step\n",
            "Epoch 42/100\n",
            "29/29 - 0s - loss: 0.1798 - 41ms/epoch - 1ms/step\n",
            "Epoch 43/100\n",
            "29/29 - 0s - loss: 0.2029 - 43ms/epoch - 1ms/step\n",
            "Epoch 44/100\n",
            "29/29 - 0s - loss: 0.2313 - 43ms/epoch - 1ms/step\n",
            "Epoch 45/100\n",
            "29/29 - 0s - loss: 0.1802 - 40ms/epoch - 1ms/step\n",
            "Epoch 46/100\n",
            "29/29 - 0s - loss: 0.2264 - 45ms/epoch - 2ms/step\n",
            "Epoch 47/100\n",
            "29/29 - 0s - loss: 0.2043 - 41ms/epoch - 1ms/step\n",
            "Epoch 48/100\n",
            "29/29 - 0s - loss: 0.1959 - 40ms/epoch - 1ms/step\n",
            "Epoch 49/100\n",
            "29/29 - 0s - loss: 0.1888 - 54ms/epoch - 2ms/step\n",
            "Epoch 50/100\n",
            "29/29 - 0s - loss: 0.1923 - 43ms/epoch - 1ms/step\n",
            "Epoch 51/100\n",
            "29/29 - 0s - loss: 0.2129 - 51ms/epoch - 2ms/step\n",
            "Epoch 52/100\n",
            "29/29 - 0s - loss: 0.2129 - 44ms/epoch - 2ms/step\n",
            "Epoch 53/100\n",
            "29/29 - 0s - loss: 0.1760 - 45ms/epoch - 2ms/step\n",
            "Epoch 54/100\n",
            "29/29 - 0s - loss: 0.2362 - 44ms/epoch - 2ms/step\n",
            "Epoch 55/100\n",
            "29/29 - 0s - loss: 0.2481 - 41ms/epoch - 1ms/step\n",
            "Epoch 56/100\n",
            "29/29 - 0s - loss: 0.1899 - 45ms/epoch - 2ms/step\n",
            "Epoch 57/100\n",
            "29/29 - 0s - loss: 0.2644 - 43ms/epoch - 1ms/step\n",
            "Epoch 58/100\n",
            "29/29 - 0s - loss: 0.1876 - 42ms/epoch - 1ms/step\n",
            "Epoch 59/100\n",
            "29/29 - 0s - loss: 0.1870 - 45ms/epoch - 2ms/step\n",
            "Epoch 60/100\n",
            "29/29 - 0s - loss: 0.2234 - 46ms/epoch - 2ms/step\n",
            "Epoch 61/100\n",
            "29/29 - 0s - loss: 0.1874 - 43ms/epoch - 1ms/step\n",
            "Epoch 62/100\n",
            "29/29 - 0s - loss: 0.2177 - 41ms/epoch - 1ms/step\n",
            "Epoch 63/100\n",
            "29/29 - 0s - loss: 0.2363 - 40ms/epoch - 1ms/step\n",
            "Epoch 64/100\n",
            "29/29 - 0s - loss: 0.1833 - 45ms/epoch - 2ms/step\n",
            "Epoch 65/100\n",
            "29/29 - 0s - loss: 0.1639 - 44ms/epoch - 2ms/step\n",
            "Epoch 66/100\n",
            "29/29 - 0s - loss: 0.1882 - 40ms/epoch - 1ms/step\n",
            "Epoch 67/100\n",
            "29/29 - 0s - loss: 0.1754 - 40ms/epoch - 1ms/step\n",
            "Epoch 68/100\n",
            "29/29 - 0s - loss: 0.1945 - 49ms/epoch - 2ms/step\n",
            "Epoch 69/100\n",
            "29/29 - 0s - loss: 0.1930 - 44ms/epoch - 2ms/step\n",
            "Epoch 70/100\n",
            "29/29 - 0s - loss: 0.1717 - 43ms/epoch - 1ms/step\n",
            "Epoch 71/100\n",
            "29/29 - 0s - loss: 0.1926 - 47ms/epoch - 2ms/step\n",
            "Epoch 72/100\n",
            "29/29 - 0s - loss: 0.2032 - 44ms/epoch - 2ms/step\n",
            "Epoch 73/100\n",
            "29/29 - 0s - loss: 0.1993 - 47ms/epoch - 2ms/step\n",
            "Epoch 74/100\n",
            "29/29 - 0s - loss: 0.1851 - 57ms/epoch - 2ms/step\n",
            "Epoch 75/100\n",
            "29/29 - 0s - loss: 0.1608 - 42ms/epoch - 1ms/step\n",
            "Epoch 76/100\n",
            "29/29 - 0s - loss: 0.1720 - 39ms/epoch - 1ms/step\n",
            "Epoch 77/100\n",
            "29/29 - 0s - loss: 0.1843 - 44ms/epoch - 2ms/step\n",
            "Epoch 78/100\n",
            "29/29 - 0s - loss: 0.1906 - 41ms/epoch - 1ms/step\n",
            "Epoch 79/100\n",
            "29/29 - 0s - loss: 0.1633 - 42ms/epoch - 1ms/step\n",
            "Epoch 80/100\n",
            "29/29 - 0s - loss: 0.1562 - 51ms/epoch - 2ms/step\n",
            "Epoch 81/100\n",
            "29/29 - 0s - loss: 0.1719 - 41ms/epoch - 1ms/step\n",
            "Epoch 82/100\n",
            "29/29 - 0s - loss: 0.1744 - 42ms/epoch - 1ms/step\n",
            "Epoch 83/100\n",
            "29/29 - 0s - loss: 0.1615 - 47ms/epoch - 2ms/step\n",
            "Epoch 84/100\n",
            "29/29 - 0s - loss: 0.1869 - 43ms/epoch - 1ms/step\n",
            "Epoch 85/100\n",
            "29/29 - 0s - loss: 0.1722 - 40ms/epoch - 1ms/step\n",
            "Epoch 86/100\n",
            "29/29 - 0s - loss: 0.2005 - 39ms/epoch - 1ms/step\n",
            "Epoch 87/100\n",
            "29/29 - 0s - loss: 0.1745 - 53ms/epoch - 2ms/step\n",
            "Epoch 88/100\n",
            "29/29 - 0s - loss: 0.1660 - 45ms/epoch - 2ms/step\n",
            "Epoch 89/100\n",
            "29/29 - 0s - loss: 0.1754 - 44ms/epoch - 2ms/step\n",
            "Epoch 90/100\n",
            "29/29 - 0s - loss: 0.1692 - 51ms/epoch - 2ms/step\n",
            "Epoch 91/100\n",
            "29/29 - 0s - loss: 0.1880 - 38ms/epoch - 1ms/step\n",
            "Epoch 92/100\n",
            "29/29 - 0s - loss: 0.1625 - 53ms/epoch - 2ms/step\n",
            "Epoch 93/100\n",
            "29/29 - 0s - loss: 0.1733 - 45ms/epoch - 2ms/step\n",
            "Epoch 94/100\n",
            "29/29 - 0s - loss: 0.1640 - 46ms/epoch - 2ms/step\n",
            "Epoch 95/100\n",
            "29/29 - 0s - loss: 0.1695 - 46ms/epoch - 2ms/step\n",
            "Epoch 96/100\n",
            "29/29 - 0s - loss: 0.2060 - 44ms/epoch - 2ms/step\n",
            "Epoch 97/100\n",
            "29/29 - 0s - loss: 0.1762 - 41ms/epoch - 1ms/step\n",
            "Epoch 98/100\n",
            "29/29 - 0s - loss: 0.1588 - 48ms/epoch - 2ms/step\n",
            "Epoch 99/100\n",
            "29/29 - 0s - loss: 0.1600 - 41ms/epoch - 1ms/step\n",
            "Epoch 100/100\n",
            "29/29 - 0s - loss: 0.2616 - 41ms/epoch - 1ms/step\n"
          ]
        },
        {
          "output_type": "execute_result",
          "data": {
            "text/plain": [
              "<keras.callbacks.History at 0x7ff4b410c6d0>"
            ]
          },
          "metadata": {},
          "execution_count": 61
        }
      ]
    },
    {
      "cell_type": "code",
      "source": [
        "predicts = model_2.predict(X_train_tf)\n",
        "predicts.shape"
      ],
      "metadata": {
        "colab": {
          "base_uri": "https://localhost:8080/"
        },
        "id": "bs1HCzDiH94m",
        "outputId": "543691d9-3cdb-420f-af9d-7b82da7487f4"
      },
      "execution_count": 62,
      "outputs": [
        {
          "output_type": "stream",
          "name": "stdout",
          "text": [
            "15/15 [==============================] - 0s 2ms/step\n"
          ]
        },
        {
          "output_type": "execute_result",
          "data": {
            "text/plain": [
              "(455, 2)"
            ]
          },
          "metadata": {},
          "execution_count": 62
        }
      ]
    },
    {
      "cell_type": "code",
      "source": [
        "Y_train_tf.shape"
      ],
      "metadata": {
        "colab": {
          "base_uri": "https://localhost:8080/"
        },
        "id": "K_VpIKuwIIH8",
        "outputId": "e46de180-928a-4c6d-f9f0-908247ed8462"
      },
      "execution_count": 63,
      "outputs": [
        {
          "output_type": "execute_result",
          "data": {
            "text/plain": [
              "(455, 2)"
            ]
          },
          "metadata": {},
          "execution_count": 63
        }
      ]
    },
    {
      "cell_type": "code",
      "source": [
        "accuracy(Y=Y_train_tf.T, predicciones=predicts.T)"
      ],
      "metadata": {
        "colab": {
          "base_uri": "https://localhost:8080/"
        },
        "id": "JvvmVwh0EXo9",
        "outputId": "dd8b3204-1090-489c-fa53-4e7748eccde2"
      },
      "execution_count": 64,
      "outputs": [
        {
          "output_type": "execute_result",
          "data": {
            "text/plain": [
              "0.9428571428571428"
            ]
          },
          "metadata": {},
          "execution_count": 64
        }
      ]
    },
    {
      "cell_type": "code",
      "source": [],
      "metadata": {
        "id": "FgYvISHlHDkE"
      },
      "execution_count": null,
      "outputs": []
    }
  ]
}